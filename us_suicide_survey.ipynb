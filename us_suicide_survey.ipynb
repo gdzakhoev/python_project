{
  "nbformat": 4,
  "nbformat_minor": 0,
  "metadata": {
    "colab": {
      "provenance": [],
      "collapsed_sections": [
        "-PURGnpBXd_R",
        "iCZnmtF6tmwj",
        "xmxoVdTEt0p4"
      ]
    },
    "kernelspec": {
      "name": "python3",
      "display_name": "Python 3"
    },
    "language_info": {
      "name": "python"
    }
  },
  "cells": [
    {
      "cell_type": "markdown",
      "source": [
        "# 1. Introductory part of the project"
      ],
      "metadata": {
        "id": "voi0OTYUtOoq"
      }
    },
    {
      "cell_type": "markdown",
      "source": [
        "# 1.1 About"
      ],
      "metadata": {
        "id": "-PURGnpBXd_R"
      }
    },
    {
      "cell_type": "markdown",
      "source": [
        "Suicide is an important social problem that requires investigation of various aspects. In this study, we will try to analyze some classical and philistine sociological (theory of human life value), economic (suicide as an inability to feed oneself), physiological (suicide caused by depression associated with vitamin D deficiency) theories of suicide as a social phenomenon. In this study, the emphasis is not on individual factors, but on structural determinants. That is, the research question is not \"Why did a person commit suicide?\", but \"Why is suicide common in this region?\".\n",
        "\n",
        "We used different demographic data for the 50 US states. In some cases where we were not able to fit data for 2020 (as was the case with religions and the political landscape), data were taken for the coming years. More about this in the part of the project devoted to self-criticism."
      ],
      "metadata": {
        "id": "uOiWDyh2XeJa"
      }
    },
    {
      "cell_type": "markdown",
      "source": [
        "# 1.2 Install dependencies\n"
      ],
      "metadata": {
        "id": "iCZnmtF6tmwj"
      }
    },
    {
      "cell_type": "code",
      "source": [
        "!apt update\n",
        "!apt install chromium-chromedriver\n",
        "!pip install --upgrade selenium geopandas\n",
        "!rm -rf /usr/bin/chromedriver\n",
        "!rm -rf google-chrome-stable_current_amd64.deb\n",
        "!wget https://dl.google.com/linux/direct/google-chrome-stable_current_amd64.deb\n",
        "!apt install ./google-chrome-stable_current_amd64.deb"
      ],
      "metadata": {
        "colab": {
          "base_uri": "https://localhost:8080/"
        },
        "id": "bgeq-WHSphnC",
        "outputId": "a704fdce-1cfb-41c2-95c7-be5472972862",
        "collapsed": true
      },
      "execution_count": null,
      "outputs": [
        {
          "output_type": "stream",
          "name": "stdout",
          "text": [
            "\u001b[33m\r0% [Working]\u001b[0m\r            \rHit:1 https://cloud.r-project.org/bin/linux/ubuntu focal-cran40/ InRelease\n",
            "\u001b[33m\r0% [Connecting to archive.ubuntu.com] [Connecting to security.ubuntu.com (185.1\u001b[0m\r                                                                               \rHit:2 https://dl.google.com/linux/chrome/deb stable InRelease\n",
            "\u001b[33m\r0% [Connecting to archive.ubuntu.com] [Connecting to security.ubuntu.com (185.1\u001b[0m\r                                                                               \rHit:3 https://developer.download.nvidia.com/compute/cuda/repos/ubuntu2004/x86_64  InRelease\n",
            "\u001b[33m\r0% [Connecting to archive.ubuntu.com] [Connecting to security.ubuntu.com (185.1\u001b[0m\u001b[33m\r0% [Connecting to archive.ubuntu.com (185.125.190.39)] [Waiting for headers] [W\u001b[0m\u001b[33m\r0% [Connecting to archive.ubuntu.com (185.125.190.39)] [Waiting for headers] [W\u001b[0m\r                                                                               \rGet:4 http://security.ubuntu.com/ubuntu focal-security InRelease [114 kB]\n",
            "Hit:5 http://ppa.launchpad.net/c2d4u.team/c2d4u4.0+/ubuntu focal InRelease\n",
            "Hit:6 http://archive.ubuntu.com/ubuntu focal InRelease\n",
            "Hit:7 http://ppa.launchpad.net/cran/libgit2/ubuntu focal InRelease\n",
            "Get:8 http://archive.ubuntu.com/ubuntu focal-updates InRelease [114 kB]\n",
            "Hit:9 http://ppa.launchpad.net/deadsnakes/ppa/ubuntu focal InRelease\n",
            "Hit:10 http://ppa.launchpad.net/graphics-drivers/ppa/ubuntu focal InRelease\n",
            "Get:11 http://archive.ubuntu.com/ubuntu focal-backports InRelease [108 kB]\n",
            "Hit:12 http://ppa.launchpad.net/ubuntugis/ppa/ubuntu focal InRelease\n",
            "Fetched 336 kB in 1s (227 kB/s)\n",
            "Reading package lists... Done\n",
            "Building dependency tree       \n",
            "Reading state information... Done\n",
            "37 packages can be upgraded. Run 'apt list --upgradable' to see them.\n",
            "Reading package lists... Done\n",
            "Building dependency tree       \n",
            "Reading state information... Done\n",
            "chromium-chromedriver is already the newest version (1:85.0.4183.83-0ubuntu0.20.04.3).\n",
            "0 upgraded, 0 newly installed, 0 to remove and 37 not upgraded.\n",
            "Looking in indexes: https://pypi.org/simple, https://us-python.pkg.dev/colab-wheels/public/simple/\n",
            "Requirement already satisfied: selenium in /usr/local/lib/python3.10/dist-packages (4.10.0)\n",
            "Collecting geopandas\n",
            "  Downloading geopandas-0.13.2-py3-none-any.whl (1.1 MB)\n",
            "\u001b[2K     \u001b[90m━━━━━━━━━━━━━━━━━━━━━━━━━━━━━━━━━━━━━━━━\u001b[0m \u001b[32m1.1/1.1 MB\u001b[0m \u001b[31m23.7 MB/s\u001b[0m eta \u001b[36m0:00:00\u001b[0m\n",
            "\u001b[?25hRequirement already satisfied: urllib3[socks]<3,>=1.26 in /usr/local/lib/python3.10/dist-packages (from selenium) (1.26.15)\n",
            "Requirement already satisfied: trio~=0.17 in /usr/local/lib/python3.10/dist-packages (from selenium) (0.22.0)\n",
            "Requirement already satisfied: trio-websocket~=0.9 in /usr/local/lib/python3.10/dist-packages (from selenium) (0.10.3)\n",
            "Requirement already satisfied: certifi>=2021.10.8 in /usr/local/lib/python3.10/dist-packages (from selenium) (2022.12.7)\n",
            "Collecting fiona>=1.8.19 (from geopandas)\n",
            "  Downloading Fiona-1.9.4.post1-cp310-cp310-manylinux_2_17_x86_64.manylinux2014_x86_64.whl (16.4 MB)\n",
            "\u001b[2K     \u001b[90m━━━━━━━━━━━━━━━━━━━━━━━━━━━━━━━━━━━━━━━━\u001b[0m \u001b[32m16.4/16.4 MB\u001b[0m \u001b[31m36.1 MB/s\u001b[0m eta \u001b[36m0:00:00\u001b[0m\n",
            "\u001b[?25hRequirement already satisfied: packaging in /usr/local/lib/python3.10/dist-packages (from geopandas) (23.1)\n",
            "Requirement already satisfied: pandas>=1.1.0 in /usr/local/lib/python3.10/dist-packages (from geopandas) (1.5.3)\n",
            "Collecting pyproj>=3.0.1 (from geopandas)\n",
            "  Downloading pyproj-3.5.0-cp310-cp310-manylinux_2_17_x86_64.manylinux2014_x86_64.whl (7.7 MB)\n",
            "\u001b[2K     \u001b[90m━━━━━━━━━━━━━━━━━━━━━━━━━━━━━━━━━━━━━━━━\u001b[0m \u001b[32m7.7/7.7 MB\u001b[0m \u001b[31m40.1 MB/s\u001b[0m eta \u001b[36m0:00:00\u001b[0m\n",
            "\u001b[?25hRequirement already satisfied: shapely>=1.7.1 in /usr/local/lib/python3.10/dist-packages (from geopandas) (2.0.1)\n",
            "Requirement already satisfied: attrs>=19.2.0 in /usr/local/lib/python3.10/dist-packages (from fiona>=1.8.19->geopandas) (23.1.0)\n",
            "Requirement already satisfied: click~=8.0 in /usr/local/lib/python3.10/dist-packages (from fiona>=1.8.19->geopandas) (8.1.3)\n",
            "Collecting click-plugins>=1.0 (from fiona>=1.8.19->geopandas)\n",
            "  Downloading click_plugins-1.1.1-py2.py3-none-any.whl (7.5 kB)\n",
            "Collecting cligj>=0.5 (from fiona>=1.8.19->geopandas)\n",
            "  Downloading cligj-0.7.2-py3-none-any.whl (7.1 kB)\n",
            "Requirement already satisfied: six in /usr/local/lib/python3.10/dist-packages (from fiona>=1.8.19->geopandas) (1.16.0)\n",
            "Requirement already satisfied: python-dateutil>=2.8.1 in /usr/local/lib/python3.10/dist-packages (from pandas>=1.1.0->geopandas) (2.8.2)\n",
            "Requirement already satisfied: pytz>=2020.1 in /usr/local/lib/python3.10/dist-packages (from pandas>=1.1.0->geopandas) (2022.7.1)\n",
            "Requirement already satisfied: numpy>=1.21.0 in /usr/local/lib/python3.10/dist-packages (from pandas>=1.1.0->geopandas) (1.22.4)\n",
            "Requirement already satisfied: sortedcontainers in /usr/local/lib/python3.10/dist-packages (from trio~=0.17->selenium) (2.4.0)\n",
            "Requirement already satisfied: async-generator>=1.9 in /usr/local/lib/python3.10/dist-packages (from trio~=0.17->selenium) (1.10)\n",
            "Requirement already satisfied: idna in /usr/local/lib/python3.10/dist-packages (from trio~=0.17->selenium) (3.4)\n",
            "Requirement already satisfied: outcome in /usr/local/lib/python3.10/dist-packages (from trio~=0.17->selenium) (1.2.0)\n",
            "Requirement already satisfied: sniffio in /usr/local/lib/python3.10/dist-packages (from trio~=0.17->selenium) (1.3.0)\n",
            "Requirement already satisfied: exceptiongroup>=1.0.0rc9 in /usr/local/lib/python3.10/dist-packages (from trio~=0.17->selenium) (1.1.1)\n",
            "Requirement already satisfied: wsproto>=0.14 in /usr/local/lib/python3.10/dist-packages (from trio-websocket~=0.9->selenium) (1.2.0)\n",
            "Requirement already satisfied: PySocks!=1.5.7,<2.0,>=1.5.6 in /usr/local/lib/python3.10/dist-packages (from urllib3[socks]<3,>=1.26->selenium) (1.7.1)\n",
            "Requirement already satisfied: h11<1,>=0.9.0 in /usr/local/lib/python3.10/dist-packages (from wsproto>=0.14->trio-websocket~=0.9->selenium) (0.14.0)\n",
            "Installing collected packages: pyproj, cligj, click-plugins, fiona, geopandas\n",
            "Successfully installed click-plugins-1.1.1 cligj-0.7.2 fiona-1.9.4.post1 geopandas-0.13.2 pyproj-3.5.0\n",
            "--2023-06-11 18:31:36--  https://dl.google.com/linux/direct/google-chrome-stable_current_amd64.deb\n",
            "Resolving dl.google.com (dl.google.com)... 108.177.98.93, 108.177.98.190, 108.177.98.136, ...\n",
            "Connecting to dl.google.com (dl.google.com)|108.177.98.93|:443... connected.\n",
            "HTTP request sent, awaiting response... 200 OK\n",
            "Length: 93850844 (90M) [application/x-debian-package]\n",
            "Saving to: ‘google-chrome-stable_current_amd64.deb’\n",
            "\n",
            "google-chrome-stabl 100%[===================>]  89.50M  95.4MB/s    in 0.9s    \n",
            "\n",
            "2023-06-11 18:31:37 (95.4 MB/s) - ‘google-chrome-stable_current_amd64.deb’ saved [93850844/93850844]\n",
            "\n",
            "Reading package lists... Done\n",
            "Building dependency tree       \n",
            "Reading state information... Done\n",
            "Note, selecting 'google-chrome-stable' instead of './google-chrome-stable_current_amd64.deb'\n",
            "google-chrome-stable is already the newest version (114.0.5735.106-1).\n",
            "0 upgraded, 0 newly installed, 0 to remove and 37 not upgraded.\n"
          ]
        }
      ]
    },
    {
      "cell_type": "markdown",
      "source": [],
      "metadata": {
        "id": "lmx33rNaXcUW"
      }
    },
    {
      "cell_type": "markdown",
      "source": [
        "# 1.3 Connect the libraries"
      ],
      "metadata": {
        "id": "xmxoVdTEt0p4"
      }
    },
    {
      "cell_type": "code",
      "source": [
        "import time\n",
        "import re\n",
        "\n",
        "import pandas as pd\n",
        "import geopandas as gpd\n",
        "import numpy as np\n",
        "import seaborn as sns\n",
        "import matplotlib.pyplot as plt\n",
        "from math import sqrt\n",
        "from scipy import stats\n",
        "from selenium import webdriver\n",
        "from selenium.webdriver.chrome.service import Service\n",
        "from selenium.webdriver.common.by import By"
      ],
      "metadata": {
        "id": "L6_pXl1SKHGt"
      },
      "execution_count": null,
      "outputs": []
    },
    {
      "cell_type": "markdown",
      "source": [
        "# 2. Data capture"
      ],
      "metadata": {
        "id": "SbbDt5ZNLZ67"
      }
    },
    {
      "cell_type": "markdown",
      "source": [
        "#2.1 Initialize and populate a table with all state data"
      ],
      "metadata": {
        "id": "8X7GpcRGZuNu"
      }
    },
    {
      "cell_type": "code",
      "source": [
        "# List of state names\n",
        "statesFullList = [\n",
        "    'Alabama', 'Alaska', 'Arizona', 'Arkansas', 'California', 'Colorado', \n",
        "    'Connecticut', 'Delaware', 'Florida', 'Georgia', 'Hawaii', 'Idaho', \n",
        "    'Illinois', 'Indiana', 'Iowa', 'Kansas', 'Kentucky', 'Louisiana', 'Maine', \n",
        "    'Maryland', 'Massachusetts', 'Michigan', 'Minnesota', 'Mississippi', \n",
        "    'Missouri', 'Montana', 'Nebraska', 'Nevada', 'New Hampshire', 'New Jersey', \n",
        "    'New Mexico', 'New York', 'North Carolina', 'North Dakota', 'Ohio', \n",
        "    'Oklahoma', 'Oregon', 'Pennsylvania', 'Rhode Island', 'South Carolina', \n",
        "    'South Dakota', 'Tennessee', 'Texas', 'Utah', 'Vermont', 'Virginia', \n",
        "    'Washington', 'West Virginia', 'Wisconsin', 'Wyoming'\n",
        "]\n",
        "\n",
        "# List of state abbreviations\n",
        "statesShortList = [\n",
        "    'AL', 'AK', 'AZ', 'AR', 'CA', 'CO', 'CT', 'DE', 'FL', 'GA', \n",
        "    'HI', 'ID', 'IL', 'IN', 'IA', 'KS', 'KY', 'LA', 'ME', 'MD', \n",
        "    'MA', 'MI', 'MN', 'MS', 'MO', 'MT', 'NE', 'NV', 'NH', 'NJ', \n",
        "    'NM', 'NY', 'NC', 'ND', 'OH', 'OK', 'OR', 'PA', 'RI', 'SC', \n",
        "    'SD', 'TN', 'TX', 'UT', 'VT', 'VA', 'WA', 'WV', 'WI', 'WY'\n",
        "]\n",
        "\n",
        "# Convert short names to full names and vice versa\n",
        "statesDict = dict(zip(\n",
        "    statesFullList + statesShortList,\n",
        "    statesShortList + statesFullList\n",
        "))"
      ],
      "metadata": {
        "id": "OWOC6gRQLY8-"
      },
      "execution_count": null,
      "outputs": []
    },
    {
      "cell_type": "markdown",
      "source": [
        "Initialize driver for scraping and downloading tables"
      ],
      "metadata": {
        "id": "diFPyNPFL0HH"
      }
    },
    {
      "cell_type": "code",
      "source": [
        "# Connecting the Chrome engine\n",
        "options = webdriver.ChromeOptions()\n",
        "options.add_argument('headless')\n",
        "options.add_argument('no-sandbox')\n",
        "options.add_argument('disable-dev-shm-usage')\n",
        "driver = webdriver.Chrome(options=options)"
      ],
      "metadata": {
        "id": "lahJGuP4Lz19"
      },
      "execution_count": null,
      "outputs": []
    },
    {
      "cell_type": "markdown",
      "source": [
        "Prepare url-s for data processing"
      ],
      "metadata": {
        "id": "dpwdtfnqOKdt"
      }
    },
    {
      "cell_type": "code",
      "source": [
        "suicideURL = 'https://www.cdc.gov/nchs/' \\\n",
        "    + 'pressroom/sosmap/suicide-mortality/suicide.htm'\n",
        "\n",
        "homicideURL = 'https://www.cdc.gov/nchs/' \\\n",
        "    + 'pressroom/sosmap/homicide_mortality/homicide.htm'\n",
        "\n",
        "nomGDPURL = 'https://apps.bea.gov/itable/' \\\n",
        "    + '?ReqID=70&step=1#eyJhcHBpZCI6NzAsInN0ZXBzIjpbMSwyNCwyOSwyNSwzMSwyNiwy' \\\n",
        "    + 'NywzMF0sImRhdGEiOltbIlRhYmxlSWQiLCI1MDUiXSxbIkNsYXNzaWZpY2F0aW9uIiwiT' \\\n",
        "    + 'kFJQ1MiXSxbIk1ham9yX0FyZWEiLCIwIl0sWyJTdGF0ZSIsWyIwIl1dLFsiQXJlYSIsWy' \\\n",
        "    + 'JYWCJdXSxbIlN0YXRpc3RpYyIsWyIxIl1dLFsiVW5pdF9vZl9tZWFzdXJlIiwiTGV2ZWx' \\\n",
        "    + 'zIl0sWyJZZWFyIixbIjIwMjAiXV0sWyJZZWFyQmVnaW4iLCItMSJdLFsiWWVhcl9FbmQi' \\\n",
        "    + 'LCItMSJdXX0='\n",
        "\n",
        "realGDPURL = 'https://apps.bea.gov/itable/' \\\n",
        "    + '?ReqID=70&step=1#eyJhcHBpZCI6NzAsInN0ZXBzIjpbMSwyNCwyOSwyNSwzMSwyNiwy' \\\n",
        "    + 'NywzMF0sImRhdGEiOltbIlRhYmxlSWQiLCI1MTIiXSxbIkNsYXNzaWZpY2F0aW9uIiwiT' \\\n",
        "    + 'kFJQ1MiXSxbIk1ham9yX0FyZWEiLCIwIl0sWyJTdGF0ZSIsWyIwIl1dLFsiQXJlYSIsWy' \\\n",
        "    + 'JYWCJdXSxbIlN0YXRpc3RpYyIsWyIxIl1dLFsiVW5pdF9vZl9tZWFzdXJlIiwiTGV2ZWx' \\\n",
        "    + 'zIl0sWyJZZWFyIixbIjIwMjAiXV0sWyJZZWFyQmVnaW4iLCItMSJdLFsiWWVhcl9FbmQi' \\\n",
        "    + 'LCItMSJdXX0='\n",
        "\n",
        "religionImportanceURL = 'https://www.pewresearch.org/' \\\n",
        "    + 'religion/religious-landscape-study/state/#social-and-political-views'\n",
        "\n",
        "religionUnaffiliatedURL = 'https://www.pewresearch.org/religion/' \\\n",
        "    + 'religious-landscape-study/compare/religious-tradition/by/state/'\n",
        "\n",
        "religionURL = 'https://www.pewresearch.org/' \\\n",
        "    + 'religion/religious-landscape-study/christians/christian/'\n",
        "\n",
        "politicalURL = 'https://www.pewresearch.org/religion/' \\\n",
        "    + 'religious-landscape-study/compare/political-ideology/by/state/'\n",
        "\n",
        "urbanizationURL = 'https://en.wikipedia.org/wiki/' \\\n",
        "    + 'Urbanization_in_the_United_States'\n",
        "\n",
        "territoryURL = 'https://en.wikipedia.org/wiki/' \\\n",
        "    + 'List_of_U.S._states_and_territories_by_area#cite_note-2010census-2'\n",
        "\n",
        "sunshineURL = 'https://www.currentresults.com/' \\\n",
        "    + 'Weather/US/average-annual-state-sunshine.php'"
      ],
      "metadata": {
        "id": "PX4nMf2lOOOE"
      },
      "execution_count": null,
      "outputs": []
    },
    {
      "cell_type": "markdown",
      "source": [
        "## 2.2 Download and process .csv-tables"
      ],
      "metadata": {
        "id": "YOiGZr3_MR77"
      }
    },
    {
      "cell_type": "markdown",
      "source": [
        "Suicide rate table"
      ],
      "metadata": {
        "id": "jZsyCBm9SuOx"
      }
    },
    {
      "cell_type": "code",
      "source": [
        "# Go to the desired page\n",
        "driver.get(suicideURL)\n",
        "time.sleep(4)\n",
        "# Click on the \"Download\" button\n",
        "driver.find_element(By.CSS_SELECTOR, '[download=\"data-table.csv\"]').click()\n",
        "time.sleep(3)\n",
        "\n",
        "# Import the downloaded table into pandas and edit it for the convenience \n",
        "# of working with it\n",
        "suicideRate = pd.read_csv('data-table.csv')\n",
        "suicideRate = suicideRate.rename(columns={\n",
        "    'STATE': 'state', \n",
        "    'RATE': 'suicide_rate', \n",
        "    'DEATHS':'suicide_deaths'\n",
        "})\n",
        "suicideRate = suicideRate[suicideRate['YEAR'] == 2020]\n",
        "suicideRate = suicideRate[['state', 'suicide_rate', 'suicide_deaths']]\n",
        "\n",
        "suicideRate['suicide_rate'] /= 100_000\n",
        "suicideRate = suicideRate.set_index('state')\n",
        "print(suicideRate)"
      ],
      "metadata": {
        "colab": {
          "base_uri": "https://localhost:8080/"
        },
        "collapsed": true,
        "id": "ycqGIDg8MRe3",
        "outputId": "16ce1f28-9e56-4540-bac2-25fcfb0f09cb"
      },
      "execution_count": null,
      "outputs": [
        {
          "output_type": "stream",
          "name": "stdout",
          "text": [
            "       suicide_rate suicide_deaths\n",
            "state                             \n",
            "AL         0.000160            793\n",
            "AK         0.000275            204\n",
            "AZ         0.000176           1363\n",
            "AR         0.000190            583\n",
            "CA         0.000100           4144\n",
            "CO         0.000215           1302\n",
            "CT         0.000093            364\n",
            "DE         0.000123            124\n",
            "FL         0.000132           3135\n",
            "GA         0.000137           1491\n",
            "HI         0.000129            184\n",
            "ID         0.000232            419\n",
            "IL         0.000105           1362\n",
            "IN         0.000150           1024\n",
            "IA         0.000180            552\n",
            "KS         0.000184            531\n",
            "KY         0.000177            801\n",
            "LA         0.000137            642\n",
            "ME         0.000164            234\n",
            "MD         0.000092            585\n",
            "MA         0.000084            618\n",
            "MI         0.000140           1444\n",
            "MN         0.000131            758\n",
            "MS         0.000139            410\n",
            "MO         0.000182           1125\n",
            "MT         0.000261            300\n",
            "NE         0.000149            283\n",
            "NV         0.000182            603\n",
            "NH         0.000164            234\n",
            "NJ         0.000071            679\n",
            "NM         0.000242            516\n",
            "NY         0.000080           1642\n",
            "NC         0.000132           1441\n",
            "ND         0.000182            135\n",
            "OH         0.000138           1644\n",
            "OK         0.000219            869\n",
            "OR         0.000183            833\n",
            "PA         0.000126           1694\n",
            "RI         0.000085             94\n",
            "SC         0.000163            868\n",
            "SD         0.000210            186\n",
            "TN         0.000172           1220\n",
            "TX         0.000133           3924\n",
            "UT         0.000208            651\n",
            "VT         0.000181            117\n",
            "VA         0.000135           1202\n",
            "WA         0.000152           1212\n",
            "WV         0.000194            354\n",
            "WI         0.000145            866\n",
            "WY         0.000305            182\n"
          ]
        }
      ]
    },
    {
      "cell_type": "markdown",
      "source": [
        "Homicide rate table"
      ],
      "metadata": {
        "id": "c-x9aSfO3T5r"
      }
    },
    {
      "cell_type": "code",
      "source": [
        "# Go to the desired page\n",
        "driver.get(homicideURL)\n",
        "time.sleep(4)\n",
        "# Click on the \"Download\" button\n",
        "driver.find_element(By.CSS_SELECTOR,'[download=\"data-table.csv\"]').click()\n",
        "time.sleep(3)\n",
        "\n",
        "# Import the downloaded table into pandas and edit it for the convenience \n",
        "# of working with it\n",
        "homicideRate = pd.read_csv('data-table.csv')\n",
        "homicideRate = homicideRate.rename(columns={\n",
        "    'STATE': 'state', \n",
        "    'RATE': 'homicide_rate', \n",
        "    'DEATHS': 'homicide_deaths'\n",
        "})\n",
        "homicideRate = homicideRate[homicideRate['YEAR'] == 2020]\n",
        "homicideRate = homicideRate[['state', 'homicide_rate', 'homicide_deaths']]\n",
        "homicideRate['homicide_rate'] /= 100_000\n",
        "homicideRate = homicideRate.set_index('state')\n",
        "print(homicideRate)"
      ],
      "metadata": {
        "id": "a582YUPi3UNy",
        "colab": {
          "base_uri": "https://localhost:8080/"
        },
        "collapsed": true,
        "outputId": "0b30f4f2-ee4a-4355-d575-6481093b860f"
      },
      "execution_count": null,
      "outputs": [
        {
          "output_type": "stream",
          "name": "stdout",
          "text": [
            "       homicide_rate homicide_deaths\n",
            "state                               \n",
            "AL          0.000142             654\n",
            "AK          0.000073              55\n",
            "AZ          0.000075             525\n",
            "AR          0.000130             371\n",
            "CA          0.000061            2368\n",
            "CO          0.000058             336\n",
            "CT          0.000046             152\n",
            "DE          0.000099              86\n",
            "FL          0.000078            1530\n",
            "GA          0.000105            1093\n",
            "HI          0.000033              46\n",
            "ID          0.000025              42\n",
            "IL          0.000112            1353\n",
            "IN          0.000097             620\n",
            "IA          0.000036             106\n",
            "KS          0.000070             195\n",
            "KY          0.000095             404\n",
            "LA          0.000199             873\n",
            "ME          0.000016              21\n",
            "MD          0.000114             649\n",
            "MA          0.000027             183\n",
            "MI          0.000087             811\n",
            "MN          0.000036             198\n",
            "MS          0.000205             576\n",
            "MO          0.000140             803\n",
            "MT          0.000066              65\n",
            "NE          0.000041              76\n",
            "NV          0.000073             217\n",
            "NH          0.000000              14\n",
            "NJ          0.000043             362\n",
            "NM          0.000108             216\n",
            "NY          0.000047             875\n",
            "NC          0.000086             884\n",
            "ND          0.000044              30\n",
            "OH          0.000091            1004\n",
            "OK          0.000090             342\n",
            "OR          0.000038             157\n",
            "PA          0.000085             994\n",
            "RI          0.000030              29\n",
            "SC          0.000127             622\n",
            "SD          0.000065              52\n",
            "TN          0.000115             753\n",
            "TX          0.000076            2212\n",
            "UT          0.000029              95\n",
            "VT          0.000000              14\n",
            "VA          0.000064             531\n",
            "WA          0.000042             322\n",
            "WV          0.000070             114\n",
            "WI          0.000061             334\n",
            "WY          0.000049              25\n"
          ]
        }
      ]
    },
    {
      "cell_type": "markdown",
      "source": [
        "Racial composition table"
      ],
      "metadata": {
        "id": "xcKU0lC8WHUY"
      }
    },
    {
      "cell_type": "code",
      "source": [
        "!gdown https://drive.google.com/uc?id=120_c-imR1G4OMdJMokkUODeJ2yxLfFSF\n",
        "# Import the table into pandas from the downloaded file \n",
        "raceRate = pd.read_csv('raceRate2020.csv').set_index('state')\n",
        " \n",
        "# And calculate the percentage of the population of different race\n",
        "raceRate['white_population_rate'] = raceRate['white'] / raceRate['population']\n",
        "raceRate['black_population_rate'] = raceRate['black'] / raceRate['population']\n",
        "raceRate['hispanic_population_rate'] = (raceRate['hispanic'] /\n",
        "                                        raceRate['population'])\n",
        "raceRate['asian_population_rate'] = raceRate['asian'] / raceRate['population']\n",
        "print(raceRate)"
      ],
      "metadata": {
        "colab": {
          "base_uri": "https://localhost:8080/"
        },
        "id": "7s-lT3XXMQdT",
        "outputId": "8b68e0bf-8617-468e-f3e8-fbdc932315a9"
      },
      "execution_count": null,
      "outputs": [
        {
          "output_type": "stream",
          "name": "stdout",
          "text": [
            "Downloading...\n",
            "From: https://drive.google.com/uc?id=120_c-imR1G4OMdJMokkUODeJ2yxLfFSF\n",
            "To: /content/raceRate2020.csv\n",
            "\r  0% 0.00/2.04k [00:00<?, ?B/s]\r100% 2.04k/2.04k [00:00<00:00, 11.0MB/s]\n",
            "       population     white    black  hispanic    asian  \\\n",
            "state                                                     \n",
            "AL        5024185   3171301  1350176    264029   100486   \n",
            "AK         733058    421621    31842     49783    70735   \n",
            "AZ        7151464   3816540   394264   2192224   335673   \n",
            "AR        3011480   2063525   487991    256841    80182   \n",
            "CA       39537251  13714234  2527175  15579278  6827772   \n",
            "CO        5773713   3760658   283287   1263389   275143   \n",
            "CT        3605862   2279194   410050    623271   198086   \n",
            "DE         989948    579853   233774    104289    49002   \n",
            "FL       21536045  11099881  3402765   5696162   781891   \n",
            "GA       10711773   5362101  3455449   1123422   545396   \n",
            "HI        1455086    314267    39422    138901   932677   \n",
            "ID        1839098   1450515    24336    239408    49438   \n",
            "IL       12812345   7472701  1919756   2337367   847818   \n",
            "IN        6785445   5120951   735017    554167   208348   \n",
            "IA        3190365   2638200   165744    215982    99611   \n",
            "KS        2937856   2122561   209558    382596   110406   \n",
            "KY        4505676   3664641   424301    207847    98588   \n",
            "LA        4657475   2596577  1518501    322500   106731   \n",
            "ME        1362335   1228250    34458     26605    25215   \n",
            "MD        6177101   2913744  1922232    729731   481476   \n",
            "MA        7029776   4748872   574226    887650   570344   \n",
            "MI       10077063   7295429  1504880    564404   402492   \n",
            "MN        5706396   4353829   467816    345634   350982   \n",
            "MS        2961257   1639068  1114821    105217    43041   \n",
            "MO        6154835   4663867   782078    303061   182879   \n",
            "MT        1084194    901306    11386     45195    17180   \n",
            "NE        1961504   1484689   118562    234716    67588   \n",
            "NV        3104608   1425953   344955    890257   351472   \n",
            "NH        1377445   1200593    28460     59439    46256   \n",
            "NJ        9288700   4816289  1261436   2002517  1016621   \n",
            "NM        2117476    772943    51564   1010784    49019   \n",
            "NY       20200925  10598800  3053147   3947929  2103377   \n",
            "NC       10439164   6312058  2277118   1118547   412689   \n",
            "ND         779074    636155    32879     33404    18785   \n",
            "OH       11799388   8954101  1656478    521312   368511   \n",
            "OK        3959221   2407126   365434    471911   124884   \n",
            "OR        4236862   3035965   121232    588675   285115   \n",
            "PA       13002583   9553383  1541172   1049589   587184   \n",
            "RI        1097390    754057    81771    182102    46563   \n",
            "SC        5118334   3178514  1346836    352824   119348   \n",
            "SD         886602    705531    24928     38741    18315   \n",
            "TN        6910670   4900153  1175149    479161   174750   \n",
            "TX       29145070  11584489  3727688  11441485  1780528   \n",
            "UT        3271577   2465336    57975    492902   164672   \n",
            "VT         643046    573179    13243     15496    15973   \n",
            "VA        8631035   5058284  1736624    908666   732211   \n",
            "WA        7704383   4918298   411803   1059065   970100   \n",
            "WV        1793616   1598744    87907     34826    21859   \n",
            "WI        5893596   4633929   430206    447284   212215   \n",
            "WY         576848    469664     8304     59047     9408   \n",
            "\n",
            "       white_population_rate  black_population_rate  hispanic_population_rate  \\\n",
            "state                                                                           \n",
            "AL                  0.631207               0.268735                  0.052552   \n",
            "AK                  0.575154               0.043437                  0.067911   \n",
            "AZ                  0.533673               0.055131                  0.306542   \n",
            "AR                  0.685220               0.162044                  0.085287   \n",
            "CA                  0.346869               0.063919                  0.394040   \n",
            "CO                  0.651341               0.049065                  0.218817   \n",
            "CT                  0.632080               0.113718                  0.172849   \n",
            "DE                  0.585741               0.236148                  0.105348   \n",
            "FL                  0.515409               0.158003                  0.264494   \n",
            "GA                  0.500580               0.322584                  0.104877   \n",
            "HI                  0.215978               0.027093                  0.095459   \n",
            "ID                  0.788710               0.013233                  0.130177   \n",
            "IL                  0.583242               0.149836                  0.182431   \n",
            "IN                  0.754696               0.108323                  0.081670   \n",
            "IA                  0.826927               0.051951                  0.067698   \n",
            "KS                  0.722486               0.071330                  0.130230   \n",
            "KY                  0.813339               0.094170                  0.046130   \n",
            "LA                  0.557507               0.326035                  0.069244   \n",
            "ME                  0.901577               0.025293                  0.019529   \n",
            "MD                  0.471701               0.311187                  0.118135   \n",
            "MA                  0.675537               0.081685                  0.126270   \n",
            "MI                  0.723964               0.149337                  0.056009   \n",
            "MN                  0.762974               0.081981                  0.060570   \n",
            "MS                  0.553504               0.376469                  0.035531   \n",
            "MO                  0.757757               0.127067                  0.049240   \n",
            "MT                  0.831314               0.010502                  0.041685   \n",
            "NE                  0.756914               0.060444                  0.119661   \n",
            "NV                  0.459302               0.111111                  0.286753   \n",
            "NH                  0.871609               0.020661                  0.043152   \n",
            "NJ                  0.518511               0.135803                  0.215586   \n",
            "NM                  0.365030               0.024352                  0.477353   \n",
            "NY                  0.524669               0.151139                  0.195433   \n",
            "NC                  0.604652               0.218132                  0.107149   \n",
            "ND                  0.816553               0.042203                  0.042877   \n",
            "OH                  0.758861               0.140387                  0.044181   \n",
            "OK                  0.607980               0.092299                  0.119193   \n",
            "OR                  0.716560               0.028614                  0.138941   \n",
            "PA                  0.734730               0.118528                  0.080722   \n",
            "RI                  0.687137               0.074514                  0.165941   \n",
            "SC                  0.621006               0.263140                  0.068933   \n",
            "SD                  0.795770               0.028116                  0.043696   \n",
            "TN                  0.709071               0.170048                  0.069336   \n",
            "TX                  0.397477               0.127901                  0.392570   \n",
            "UT                  0.753562               0.017721                  0.150662   \n",
            "VT                  0.891350               0.020594                  0.024098   \n",
            "VA                  0.586058               0.201207                  0.105279   \n",
            "WA                  0.638377               0.053450                  0.137463   \n",
            "WV                  0.891352               0.049011                  0.019417   \n",
            "WI                  0.786265               0.072996                  0.075893   \n",
            "WY                  0.814190               0.014395                  0.102361   \n",
            "\n",
            "       asian_population_rate  \n",
            "state                         \n",
            "AL                  0.020000  \n",
            "AK                  0.096493  \n",
            "AZ                  0.046938  \n",
            "AR                  0.026625  \n",
            "CA                  0.172692  \n",
            "CO                  0.047654  \n",
            "CT                  0.054934  \n",
            "DE                  0.049500  \n",
            "FL                  0.036306  \n",
            "GA                  0.050916  \n",
            "HI                  0.640977  \n",
            "ID                  0.026882  \n",
            "IL                  0.066172  \n",
            "IN                  0.030705  \n",
            "IA                  0.031222  \n",
            "KS                  0.037580  \n",
            "KY                  0.021881  \n",
            "LA                  0.022916  \n",
            "ME                  0.018509  \n",
            "MD                  0.077945  \n",
            "MA                  0.081133  \n",
            "MI                  0.039941  \n",
            "MN                  0.061507  \n",
            "MS                  0.014535  \n",
            "MO                  0.029713  \n",
            "MT                  0.015846  \n",
            "NE                  0.034457  \n",
            "NV                  0.113210  \n",
            "NH                  0.033581  \n",
            "NJ                  0.109447  \n",
            "NM                  0.023150  \n",
            "NY                  0.104123  \n",
            "NC                  0.039533  \n",
            "ND                  0.024112  \n",
            "OH                  0.031231  \n",
            "OK                  0.031543  \n",
            "OR                  0.067294  \n",
            "PA                  0.045159  \n",
            "RI                  0.042431  \n",
            "SC                  0.023318  \n",
            "SD                  0.020658  \n",
            "TN                  0.025287  \n",
            "TX                  0.061092  \n",
            "UT                  0.050334  \n",
            "VT                  0.024840  \n",
            "VA                  0.084835  \n",
            "WA                  0.125915  \n",
            "WV                  0.012187  \n",
            "WI                  0.036008  \n",
            "WY                  0.016309  \n"
          ]
        }
      ]
    },
    {
      "cell_type": "markdown",
      "source": [
        "Table of nominal GDP"
      ],
      "metadata": {
        "id": "B2Foyk8xhv4B"
      }
    },
    {
      "cell_type": "code",
      "source": [
        "# Go to the desired page\n",
        "driver.get(nomGDPURL)\n",
        "time.sleep(2)\n",
        "\n",
        "# Download the table by successively pressing two buttons\n",
        "driver.find_element(By.ID, 'DownloadTableBtn').click()\n",
        "driver.find_element(\n",
        "    By.CSS_SELECTOR, \n",
        "    '[onclick=\"iTable.DoDownload(\\'csv\\'); return none;\"]'\n",
        ").click()\n",
        "time.sleep(3)\n",
        "\n",
        "# Remove extra lines from the downloaded table\n",
        "with open('Table.csv', 'r') as f:\n",
        "    lines = [line.rstrip('\\n') for line in f]\n",
        "with open('Table.csv', 'w') as f:\n",
        "    f.write('\\n'.join(lines[3:-4]))\n",
        "\n",
        "# Import the downloaded table into pandas and edit it for the convenience \n",
        "# of working with it\n",
        "nomGDP = pd.read_csv('Table.csv')\n",
        "nomGDP = nomGDP.rename(columns={\n",
        "    'GeoName': 'state', \n",
        "    '2020': 'nominal_gdp'\n",
        "})\n",
        "nomGDP = nomGDP[['state', 'nominal_gdp']][nomGDP['state'].isin(statesFullList)]\n",
        "nomGDP['state'] = nomGDP['state'].apply(lambda state: statesDict[state]) \n",
        "nomGDP = nomGDP.set_index('state')\n",
        "# And calculate GDP per capita\n",
        "nomGDP['nominal_gdp_per_capita'] = (nomGDP['nominal_gdp'] /\n",
        "                                    raceRate['population'])\n",
        "print(nomGDP)"
      ],
      "metadata": {
        "id": "0jN5tfvlAdl2",
        "colab": {
          "base_uri": "https://localhost:8080/"
        },
        "outputId": "3f4fa2b1-26b2-492f-f14f-0cad42ebca80",
        "collapsed": true
      },
      "execution_count": null,
      "outputs": [
        {
          "output_type": "stream",
          "name": "stdout",
          "text": [
            "       nominal_gdp  nominal_gdp_per_capita\n",
            "state                                     \n",
            "AL        230892.1                0.045956\n",
            "AK         50475.2                0.068856\n",
            "AZ        382072.3                0.053426\n",
            "AR        133969.1                0.044486\n",
            "CA       3020173.4                0.076388\n",
            "CO        391263.3                0.067766\n",
            "CT        276223.3                0.076604\n",
            "DE         75818.6                0.076588\n",
            "FL       1116726.8                0.051854\n",
            "GA        625425.7                0.058387\n",
            "HI         82535.5                0.056722\n",
            "ID         85927.8                0.046723\n",
            "IL        856942.9                0.066884\n",
            "IN        373781.6                0.055086\n",
            "IA        196982.9                0.061743\n",
            "KS        177580.9                0.060446\n",
            "KY        216865.6                0.048132\n",
            "LA        232527.8                0.049926\n",
            "ME         70740.0                0.051926\n",
            "MD        410931.0                0.066525\n",
            "MA        585150.3                0.083239\n",
            "MI        520105.3                0.051613\n",
            "MN        376814.4                0.066034\n",
            "MS        115123.4                0.038877\n",
            "MO        330249.9                0.053657\n",
            "MT         52355.8                0.048290\n",
            "NE        134580.8                0.068611\n",
            "NV        172562.6                0.055583\n",
            "NH         88337.7                0.064132\n",
            "NJ        620085.9                0.066757\n",
            "NM         98790.0                0.046655\n",
            "NY       1740804.7                0.086175\n",
            "NC        598915.9                0.057372\n",
            "ND         54422.9                0.069856\n",
            "OH        684382.5                0.058002\n",
            "OK        190063.6                0.048005\n",
            "OR        247966.7                0.058526\n",
            "PA        771613.2                0.059343\n",
            "RI         60770.6                0.055377\n",
            "SC        245359.5                0.047937\n",
            "SD         55681.2                0.062803\n",
            "TN        379007.1                0.054844\n",
            "TX       1789933.4                0.061415\n",
            "UT        202133.4                0.061785\n",
            "VT         34018.6                0.052902\n",
            "VA        556992.6                0.064534\n",
            "WA        612969.1                0.079561\n",
            "WV         76547.9                0.042678\n",
            "WI        340591.1                0.057790\n",
            "WY         36330.4                0.062981\n"
          ]
        }
      ]
    },
    {
      "cell_type": "markdown",
      "source": [
        "Table of real GDP"
      ],
      "metadata": {
        "id": "V6r7svUtv8yc"
      }
    },
    {
      "cell_type": "code",
      "source": [
        "# Go to the desired page\n",
        "driver.get(realGDPURL)\n",
        "time.sleep(2)\n",
        "\n",
        "# Download the table by successively pressing two buttons\n",
        "driver.find_element(By.ID, 'DownloadTableBtn').click()\n",
        "driver.find_element(By.CSS_SELECTOR,\n",
        "'[onclick=\"iTable.DoDownload(\\'csv\\'); return none;\"]').click()\n",
        "time.sleep(3)\n",
        "\n",
        "# Remove extra lines from the downloaded table\n",
        "with open('Table.csv', 'r') as f:\n",
        "    lines = [line.rstrip('\\n') for line in f]\n",
        "with open('Table.csv', 'w') as f:\n",
        "    f.write('\\n'.join(lines[3:-4]))\n",
        "\n",
        "# Import the downloaded table into pandas and edit it for the convenience \n",
        "# of working with it\n",
        "realGDP = pd.read_csv('Table.csv')\n",
        "realGDP = realGDP.rename(columns={\n",
        "    'GeoName': 'state', \n",
        "    '2020': 'real_gdp'\n",
        "})\n",
        "realGDP = realGDP[['state', 'real_gdp']][realGDP['state'].isin(statesFullList)]\n",
        "realGDP['state'] = realGDP['state'].apply(lambda state: statesDict[state]) \n",
        "realGDP = realGDP.set_index('state')\n",
        "\n",
        "# And calculate GDP per capita\n",
        "realGDP['real_gdp_per_capita'] = realGDP['real_gdp'] / raceRate['population']\n",
        "print(realGDP)"
      ],
      "metadata": {
        "colab": {
          "base_uri": "https://localhost:8080/"
        },
        "collapsed": true,
        "id": "rOM3BEG0hMv2",
        "outputId": "a41c4fb1-11f2-4c8a-ef15-1515194ef4a9"
      },
      "execution_count": null,
      "outputs": [
        {
          "output_type": "stream",
          "name": "stdout",
          "text": [
            "        real_gdp  real_gdp_per_capita\n",
            "state                                \n",
            "AL      199880.8             0.039784\n",
            "AK       50705.2             0.069169\n",
            "AZ      327178.0             0.045750\n",
            "AR      117268.2             0.038940\n",
            "CA     2667220.9             0.067461\n",
            "CO      353345.2             0.061199\n",
            "CT      235234.9             0.065237\n",
            "DE       62281.8             0.062914\n",
            "FL      950164.4             0.044120\n",
            "GA      537615.8             0.050189\n",
            "HI       70109.4             0.048182\n",
            "ID       75145.5             0.040860\n",
            "IL      734385.0             0.057319\n",
            "IN      327277.9             0.048232\n",
            "IA      170957.4             0.053586\n",
            "KS      158348.3             0.053899\n",
            "KY      188396.3             0.041813\n",
            "LA      218421.7             0.046897\n",
            "ME       59881.4             0.043955\n",
            "MD      352384.0             0.057047\n",
            "MA      500001.0             0.071126\n",
            "MI      448455.3             0.044503\n",
            "MN      328489.5             0.057565\n",
            "MS      100526.9             0.033947\n",
            "MO      282754.1             0.045940\n",
            "MT       46750.4             0.043120\n",
            "NE      118141.5             0.060230\n",
            "NV      146492.5             0.047186\n",
            "NH       75927.6             0.055122\n",
            "NJ      535323.7             0.057632\n",
            "NM       92496.3             0.043682\n",
            "NY     1432507.0             0.070913\n",
            "NC      506658.1             0.048534\n",
            "ND       53653.6             0.068868\n",
            "OH      594143.6             0.050354\n",
            "OK      192485.5             0.048617\n",
            "OR      215743.6             0.050921\n",
            "PA      680957.4             0.052371\n",
            "RI       51516.1             0.046944\n",
            "SC      208234.1             0.040684\n",
            "SD       47402.4             0.053465\n",
            "TN      323454.0             0.046805\n",
            "TX     1747562.0             0.059961\n",
            "UT      174954.7             0.053477\n",
            "VT       29064.6             0.045198\n",
            "VA      478909.3             0.055487\n",
            "WA      538856.1             0.069941\n",
            "WV       70444.2             0.039275\n",
            "WI      293104.9             0.049733\n",
            "WY       36268.6             0.062874\n"
          ]
        }
      ]
    },
    {
      "cell_type": "markdown",
      "source": [
        "Unemployment share table"
      ],
      "metadata": {
        "id": "Y13cH6q_2PBC"
      }
    },
    {
      "cell_type": "code",
      "source": [
        "!gdown https://drive.google.com/uc?id=1hhGxnzh26-E3ohHKp35sZsBp29mXtLjf\n",
        "# Import table into pandas from downloaded file\n",
        "unemploymentRate = pd.read_csv('unemploymentRate2020.csv').set_index('state')\n",
        "print(unemploymentRate)"
      ],
      "metadata": {
        "colab": {
          "base_uri": "https://localhost:8080/"
        },
        "id": "ZpYFNL1k2WE8",
        "outputId": "9fed06ee-408a-4ac4-84b6-35a0ead99c92",
        "collapsed": true
      },
      "execution_count": null,
      "outputs": [
        {
          "output_type": "stream",
          "name": "stdout",
          "text": [
            "Downloading...\n",
            "From: https://drive.google.com/uc?id=1hhGxnzh26-E3ohHKp35sZsBp29mXtLjf\n",
            "To: /content/unemploymentRate2020.csv\n",
            "\r  0% 0.00/429 [00:00<?, ?B/s]\r100% 429/429 [00:00<00:00, 2.63MB/s]\n",
            "       unemployment_rate\n",
            "state                   \n",
            "AL                   6.4\n",
            "AK                   8.3\n",
            "AZ                   7.8\n",
            "AR                   6.2\n",
            "CA                  10.1\n",
            "CO                   6.8\n",
            "CT                   7.9\n",
            "DE                   7.5\n",
            "FL                   8.1\n",
            "GA                   6.5\n",
            "HI                  11.7\n",
            "ID                   5.5\n",
            "IL                   9.3\n",
            "IN                   7.3\n",
            "IA                   5.2\n",
            "KS                   5.8\n",
            "KY                   6.5\n",
            "LA                   8.6\n",
            "ME                   5.1\n",
            "MD                   6.5\n",
            "MA                   9.4\n",
            "MI                  10.0\n",
            "MN                   6.3\n",
            "MS                   8.0\n",
            "MO                   6.1\n",
            "MT                   5.8\n",
            "NE                   4.3\n",
            "NV                  13.5\n",
            "NH                   6.7\n",
            "NJ                   9.4\n",
            "NM                   7.9\n",
            "NY                   9.8\n",
            "NC                   7.2\n",
            "ND                   5.0\n",
            "OH                   8.2\n",
            "OK                   6.3\n",
            "OR                   7.6\n",
            "PA                   8.9\n",
            "RI                   9.2\n",
            "SC                   6.0\n",
            "SD                   4.2\n",
            "TN                   7.5\n",
            "TX                   7.7\n",
            "UT                   4.8\n",
            "VT                   5.7\n",
            "VA                   6.5\n",
            "WA                   8.5\n",
            "WV                   8.2\n",
            "WI                   6.4\n",
            "WY                   5.9\n"
          ]
        }
      ]
    },
    {
      "cell_type": "markdown",
      "source": [
        "## 2.3. Scrap the rest of the data\n"
      ],
      "metadata": {
        "id": "-IjY9tVSxrDw"
      }
    },
    {
      "cell_type": "markdown",
      "source": [
        "Initialize dictionaries with data for tables"
      ],
      "metadata": {
        "id": "QtIyN7DtUIok"
      }
    },
    {
      "cell_type": "code",
      "source": [
        "# Religion rate variables\n",
        "religionRateDict = {\n",
        "    'state': statesShortList,\n",
        "    'very_important_rate': [],\n",
        "    'somewhat_important_rate': [],\n",
        "    'not_important_rate': [],\n",
        "    'christian_rate': [],\n",
        "    'non-christian_rate': [],\n",
        "    'unaffiliated_rate': []\n",
        "}\n",
        "\n",
        "\n",
        "# Political ideology rate variables\n",
        "politicalRateDict = {\n",
        "    'state': statesShortList,\n",
        "    'conservative_rate': [],\n",
        "    'moderate_rate': [],\n",
        "    'liberal_rate': [],\n",
        "    'neutral_rate': []\n",
        "}\n",
        "\n",
        "\n",
        "# Urbanization rate variables\n",
        "urbanizationRateDict = {\n",
        "    'state': statesShortList,\n",
        "    'urban_rate': []\n",
        "}\n",
        "\n",
        "\n",
        "# Territory area variables\n",
        "territoryAreaDict = {\n",
        "    'state': statesShortList,\n",
        "    'area': []\n",
        "}\n",
        "\n",
        "\n",
        "# Sunshine days rate variables\n",
        "sunshineRateDict = {\n",
        "    'state': statesShortList,\n",
        "    'sun_rate': [],\n",
        "    'sun_total_hours': []\n",
        "}"
      ],
      "metadata": {
        "id": "hNzN5JytvrJm"
      },
      "execution_count": null,
      "outputs": []
    },
    {
      "cell_type": "code",
      "source": [
        "# Define a function that converts a fraction expressed as \n",
        "# a percentage to a decimal fraction\n",
        "def percent_to_float(percent):\n",
        "    \"\"\"Conversion: percent (string) -> rate (float)\"\"\"\n",
        "    if percent.endswith('%'):\n",
        "        return float(percent[:-1]) / 100\n",
        "    return float(percent) / 100\n",
        "# Define a function that converts a number expressed using \n",
        "# comma-separated text to a numeric type\n",
        "def string_to_float(num_str):\n",
        "    num_str = num_str.replace(',', '')\n",
        "    return float(num_str)"
      ],
      "metadata": {
        "id": "L6D0jrEvIEqY"
      },
      "execution_count": null,
      "outputs": []
    },
    {
      "cell_type": "markdown",
      "source": [
        "Scraping the importance of religion data"
      ],
      "metadata": {
        "id": "7UYdaLnK82dx"
      }
    },
    {
      "cell_type": "code",
      "source": [
        "# Scrapping religion importance rate values from pewsearch.org\n",
        "driver.get(religionImportanceURL)\n",
        "driver.find_element(\n",
        "    By.CSS_SELECTOR, \n",
        "    '[data-tab=\"571df069787c6d4410847a0fbb93e91d-table\"]'\n",
        ").click()\n",
        "time.sleep(2)\n",
        "section = driver.find_element(By.ID, 'importance-of-religion-in-ones-life')\n",
        "\n",
        "tableDataRaw = section.find_element(By.TAG_NAME, 'tbody') \\\n",
        "    .find_elements(By.TAG_NAME, 'tr')\n",
        "\n",
        "for tableRow in tableDataRaw:\n",
        "    curColumn = tableRow.find_elements(By.TAG_NAME, 'td')\n",
        "    \n",
        "    if len(curColumn) == 0:\n",
        "        continue\n",
        "\n",
        "    # Check if the data is state-wide and not country-wide\n",
        "    stateName = curColumn[0].text\n",
        "\n",
        "    if stateName not in statesFullList:\n",
        "        continue\n",
        "\n",
        "    religionRateDict['very_important_rate'] \\\n",
        "        .append((\n",
        "            stateName,\n",
        "            percent_to_float(curColumn[1].text)\n",
        "        ))\n",
        "    religionRateDict['somewhat_important_rate'] \\\n",
        "        .append((\n",
        "            stateName,\n",
        "            percent_to_float(curColumn[2].text) \\\n",
        "            + percent_to_float(curColumn[3].text)\n",
        "        ))\n",
        "    religionRateDict['not_important_rate'] \\\n",
        "        .append((\n",
        "            stateName,\n",
        "            percent_to_float(curColumn[4].text)\n",
        "        ))\n",
        "\n",
        "religionRateDict['very_important_rate'] = \\\n",
        "    [rate for (_, rate) in sorted(religionRateDict['very_important_rate'])]\n",
        "religionRateDict['somewhat_important_rate'] = \\\n",
        "    [rate for (_, rate) in sorted(religionRateDict['somewhat_important_rate'])]\n",
        "religionRateDict['not_important_rate'] = \\\n",
        "    [rate for (_, rate) in sorted(religionRateDict['not_important_rate'])]"
      ],
      "metadata": {
        "id": "cItvYVYTWt4H",
        "collapsed": true
      },
      "execution_count": null,
      "outputs": []
    },
    {
      "cell_type": "markdown",
      "source": [
        "Scraping shares of christianity by state"
      ],
      "metadata": {
        "id": "slEyTtU086A6"
      }
    },
    {
      "cell_type": "code",
      "source": [
        "# Scrapping religion rate values from pewsearch.org\n",
        "driver.get(religionURL)\n",
        "driver.find_element(By.CSS_SELECTOR, '[data-tab=\"state-map-table\"]').click()\n",
        "time.sleep(2)\n",
        "\n",
        "tableDataRaw = driver.find_element(By.TAG_NAME, 'tbody') \\\n",
        "    .find_elements(By.TAG_NAME, 'tr')\n",
        "\n",
        "for tableRow in tableDataRaw:\n",
        "    curColumn = tableRow.find_elements(By.TAG_NAME, 'td')\n",
        "    \n",
        "    if len(curColumn) == 0:\n",
        "        continue\n",
        "\n",
        "    # Check if the data is state-wide and not country-wide\n",
        "    stateName = curColumn[0].text\n",
        "\n",
        "    if stateName not in statesFullList:\n",
        "        continue\n",
        "    religionRateDict['christian_rate'] \\\n",
        "        .append((\n",
        "            stateName,\n",
        "            percent_to_float(curColumn[1].text)\n",
        "        ))\n",
        "\n",
        "\n",
        "religionRateDict['christian_rate'] = \\\n",
        "    [rate for (_, rate) in sorted(religionRateDict['christian_rate'])]"
      ],
      "metadata": {
        "id": "9yVxUwEJ6dmm"
      },
      "execution_count": null,
      "outputs": []
    },
    {
      "cell_type": "markdown",
      "source": [
        "Scraping the share of other religions and non-believers"
      ],
      "metadata": {
        "id": "KT38jWY9A8fP"
      }
    },
    {
      "cell_type": "code",
      "source": [
        "driver.get(religionUnaffiliatedURL)\n",
        "time.sleep(2)\n",
        "driver.find_element(\n",
        "    By.CSS_SELECTOR, \n",
        "    '[data-tab=\"54dc509523535b4f5fdfe287f884ae22-table\"]'\n",
        ").click()\n",
        "time.sleep(2)\n",
        "\n",
        "tableDataRaw = driver.find_element(By.TAG_NAME, 'tbody') \\\n",
        "    .find_elements(By.TAG_NAME, 'tr')\n",
        "\n",
        "for tableRow in tableDataRaw:\n",
        "    curColumn = tableRow.find_elements(By.TAG_NAME, 'td')\n",
        "    \n",
        "    if len(curColumn) == 0:\n",
        "        continue\n",
        "\n",
        "    # Check if the data is state-wide and not country-wide\n",
        "    stateName = curColumn[0].text\n",
        "\n",
        "    if stateName not in statesFullList:\n",
        "        continue\n",
        "    religionRateDict['unaffiliated_rate'] \\\n",
        "        .append((\n",
        "            stateName,\n",
        "            percent_to_float(curColumn[15].text)\n",
        "        ))\n",
        "\n",
        "\n",
        "religionRateDict['unaffiliated_rate'] = \\\n",
        "    [rate for (_, rate) in sorted(religionRateDict['unaffiliated_rate'])]\n",
        "\n",
        "for i in range(len(religionRateDict['unaffiliated_rate'])):\n",
        "    religionRateDict['non-christian_rate'].append(\n",
        "        1 - (religionRateDict['christian_rate'][i] +\n",
        "            religionRateDict['unaffiliated_rate'][i])\n",
        "    )\n",
        "\n",
        "# Finally getting religion rate DataFrame\n",
        "religionRate = pd.DataFrame(data=religionRateDict).set_index('state')\n",
        "print(religionRate)"
      ],
      "metadata": {
        "collapsed": true,
        "id": "bn-47ucoA76W",
        "colab": {
          "base_uri": "https://localhost:8080/"
        },
        "outputId": "6c13469a-0dc0-4dfc-c761-248ea977a974"
      },
      "execution_count": null,
      "outputs": [
        {
          "output_type": "stream",
          "name": "stdout",
          "text": [
            "       very_important_rate  somewhat_important_rate  not_important_rate  \\\n",
            "state                                                                     \n",
            "AL                    0.77                     0.19                0.04   \n",
            "AK                    0.41                     0.42                0.16   \n",
            "AZ                    0.51                     0.37                0.11   \n",
            "AR                    0.70                     0.23                0.05   \n",
            "CA                    0.47                     0.39                0.14   \n",
            "CO                    0.47                     0.40                0.13   \n",
            "CT                    0.42                     0.44                0.14   \n",
            "DE                    0.46                     0.41                0.11   \n",
            "FL                    0.53                     0.36                0.11   \n",
            "GA                    0.64                     0.27                0.08   \n",
            "HI                    0.44                     0.45                0.10   \n",
            "ID                    0.51                     0.37                0.13   \n",
            "IL                    0.50                     0.40                0.10   \n",
            "IN                    0.53                     0.36                0.10   \n",
            "IA                    0.53                     0.37                0.09   \n",
            "KS                    0.50                     0.43                0.07   \n",
            "KY                    0.63                     0.30                0.07   \n",
            "LA                    0.71                     0.23                0.06   \n",
            "ME                    0.34                     0.44                0.21   \n",
            "MD                    0.50                     0.37                0.12   \n",
            "MA                    0.33                     0.46                0.20   \n",
            "MI                    0.50                     0.38                0.11   \n",
            "MN                    0.46                     0.41                0.13   \n",
            "MS                    0.74                     0.21                0.04   \n",
            "MO                    0.56                     0.36                0.07   \n",
            "MT                    0.44                     0.40                0.15   \n",
            "NE                    0.54                     0.37                0.08   \n",
            "NV                    0.44                     0.39                0.16   \n",
            "NH                    0.33                     0.50                0.15   \n",
            "NJ                    0.50                     0.39                0.09   \n",
            "NM                    0.59                     0.26                0.13   \n",
            "NY                    0.45                     0.39                0.15   \n",
            "NC                    0.62                     0.30                0.08   \n",
            "ND                    0.53                     0.38                0.09   \n",
            "OH                    0.56                     0.34                0.10   \n",
            "OK                    0.64                     0.27                0.08   \n",
            "OR                    0.45                     0.37                0.17   \n",
            "PA                    0.51                     0.38                0.11   \n",
            "RI                    0.48                     0.35                0.18   \n",
            "SC                    0.69                     0.24                0.06   \n",
            "SD                    0.57                     0.33                0.09   \n",
            "TN                    0.71                     0.23                0.06   \n",
            "TX                    0.63                     0.30                0.08   \n",
            "UT                    0.58                     0.29                0.11   \n",
            "VT                    0.32                     0.46                0.22   \n",
            "VA                    0.60                     0.31                0.08   \n",
            "WA                    0.44                     0.40                0.16   \n",
            "WV                    0.64                     0.29                0.05   \n",
            "WI                    0.44                     0.43                0.12   \n",
            "WY                    0.49                     0.41                0.09   \n",
            "\n",
            "       christian_rate  non-christian_rate  unaffiliated_rate  \n",
            "state                                                         \n",
            "AL               0.86                0.02               0.12  \n",
            "AK               0.62                0.07               0.31  \n",
            "AZ               0.67                0.06               0.27  \n",
            "AR               0.79                0.03               0.18  \n",
            "CA               0.63                0.10               0.27  \n",
            "CO               0.64                0.07               0.29  \n",
            "CT               0.70                0.07               0.23  \n",
            "DE               0.69                0.08               0.23  \n",
            "FL               0.70                0.06               0.24  \n",
            "GA               0.79                0.03               0.18  \n",
            "HI               0.63                0.11               0.26  \n",
            "ID               0.67                0.06               0.27  \n",
            "IL               0.71                0.07               0.22  \n",
            "IN               0.72                0.02               0.26  \n",
            "IA               0.77                0.02               0.21  \n",
            "KS               0.76                0.04               0.20  \n",
            "KY               0.76                0.02               0.22  \n",
            "LA               0.84                0.03               0.13  \n",
            "ME               0.60                0.09               0.31  \n",
            "MD               0.69                0.08               0.23  \n",
            "MA               0.58                0.10               0.32  \n",
            "MI               0.70                0.06               0.24  \n",
            "MN               0.74                0.06               0.20  \n",
            "MS               0.83                0.03               0.14  \n",
            "MO               0.77                0.03               0.20  \n",
            "MT               0.65                0.05               0.30  \n",
            "NE               0.75                0.05               0.20  \n",
            "NV               0.66                0.06               0.28  \n",
            "NH               0.59                0.05               0.36  \n",
            "NJ               0.67                0.15               0.18  \n",
            "NM               0.75                0.04               0.21  \n",
            "NY               0.60                0.13               0.27  \n",
            "NC               0.77                0.03               0.20  \n",
            "ND               0.77                0.03               0.20  \n",
            "OH               0.73                0.05               0.22  \n",
            "OK               0.79                0.03               0.18  \n",
            "OR               0.61                0.08               0.31  \n",
            "PA               0.73                0.06               0.21  \n",
            "RI               0.75                0.05               0.20  \n",
            "SC               0.78                0.03               0.19  \n",
            "SD               0.79                0.03               0.18  \n",
            "TN               0.81                0.05               0.14  \n",
            "TX               0.77                0.05               0.18  \n",
            "UT               0.73                0.05               0.22  \n",
            "VT               0.54                0.09               0.37  \n",
            "VA               0.73                0.07               0.20  \n",
            "WA               0.61                0.07               0.32  \n",
            "WV               0.78                0.04               0.18  \n",
            "WI               0.71                0.04               0.25  \n",
            "WY               0.71                0.03               0.26  \n"
          ]
        }
      ]
    },
    {
      "cell_type": "markdown",
      "source": [
        "Scraping statistics on political views"
      ],
      "metadata": {
        "id": "XW-aqTuILWsW"
      }
    },
    {
      "cell_type": "code",
      "source": [
        "# Scrapping political ideology values from pewsearch.org\n",
        "driver.get(politicalURL)\n",
        "driver.find_element(\n",
        "    By.CSS_SELECTOR, \n",
        "    '[data-tab=\"51e56cc7e934ca51e586f1f045786c39-table\"]'\n",
        ").click()\n",
        "time.sleep(2)\n",
        "\n",
        "tableDataRaw = driver.find_element(By.TAG_NAME, 'tbody') \\\n",
        "    .find_elements(By.TAG_NAME, 'tr')\n",
        "\n",
        "for tableRow in tableDataRaw:\n",
        "    curColumn = tableRow.find_elements(By.TAG_NAME, 'td')\n",
        "    \n",
        "    if len(curColumn) == 0:\n",
        "        continue\n",
        "\n",
        "    # Check if the data is state-wide and not country-wide\n",
        "    stateName = curColumn[0].text\n",
        "\n",
        "    if stateName not in statesFullList:\n",
        "        continue\n",
        "\n",
        "    politicalRateDict['conservative_rate'] \\\n",
        "        .append((\n",
        "            stateName,\n",
        "            percent_to_float(curColumn[1].text)\n",
        "        ))\n",
        "    politicalRateDict['moderate_rate'] \\\n",
        "        .append((\n",
        "            stateName,\n",
        "            percent_to_float(curColumn[2].text)\n",
        "        ))\n",
        "    politicalRateDict['liberal_rate'] \\\n",
        "        .append((\n",
        "            stateName,\n",
        "            percent_to_float(curColumn[3].text)\n",
        "        ))\n",
        "    politicalRateDict['neutral_rate'] \\\n",
        "        .append((\n",
        "            stateName,\n",
        "            percent_to_float(curColumn[4].text)\n",
        "        ))\n",
        "\n",
        "\n",
        "politicalRateDict['conservative_rate'] = \\\n",
        "    [rate for (state,rate) in sorted(politicalRateDict['conservative_rate'])]\n",
        "politicalRateDict['moderate_rate'] = \\\n",
        "    [rate for (state,rate) in sorted(politicalRateDict['moderate_rate'])]\n",
        "politicalRateDict['liberal_rate'] = \\\n",
        "    [rate for (state,rate) in sorted(politicalRateDict['liberal_rate'])]\n",
        "politicalRateDict['neutral_rate'] = \\\n",
        "    [rate for (state,rate) in sorted(politicalRateDict['neutral_rate'])]\n",
        "\n",
        "# Finally getting political rate DataFrame\n",
        "politicalRate = pd.DataFrame(data=politicalRateDict).set_index('state')\n",
        "print(politicalRate)"
      ],
      "metadata": {
        "collapsed": true,
        "id": "rFOrwKL_LXPM",
        "colab": {
          "base_uri": "https://localhost:8080/"
        },
        "outputId": "17b028e9-bd2f-431e-e6b9-736342d02fc1"
      },
      "execution_count": null,
      "outputs": [
        {
          "output_type": "stream",
          "name": "stdout",
          "text": [
            "       conservative_rate  moderate_rate  liberal_rate  neutral_rate\n",
            "state                                                              \n",
            "AL                  0.50           0.29          0.12          0.08\n",
            "AK                  0.34           0.37          0.23          0.06\n",
            "AZ                  0.39           0.31          0.23          0.07\n",
            "AR                  0.42           0.38          0.14          0.06\n",
            "CA                  0.31           0.34          0.29          0.06\n",
            "CO                  0.33           0.34          0.28          0.05\n",
            "CT                  0.33           0.36          0.25          0.06\n",
            "DE                  0.26           0.40          0.25          0.09\n",
            "FL                  0.37           0.31          0.24          0.08\n",
            "GA                  0.42           0.32          0.20          0.06\n",
            "HI                  0.30           0.42          0.21          0.06\n",
            "ID                  0.42           0.32          0.21          0.05\n",
            "IL                  0.32           0.35          0.27          0.06\n",
            "IN                  0.41           0.31          0.20          0.08\n",
            "IA                  0.41           0.31          0.23          0.06\n",
            "KS                  0.39           0.31          0.27          0.03\n",
            "KY                  0.42           0.29          0.23          0.06\n",
            "LA                  0.50           0.30          0.14          0.06\n",
            "ME                  0.34           0.33          0.30          0.03\n",
            "MD                  0.26           0.36          0.29          0.09\n",
            "MA                  0.23           0.35          0.36          0.06\n",
            "MI                  0.35           0.33          0.24          0.08\n",
            "MN                  0.35           0.32          0.27          0.07\n",
            "MS                  0.45           0.30          0.19          0.06\n",
            "MO                  0.39           0.32          0.21          0.08\n",
            "MT                  0.44           0.31          0.21          0.05\n",
            "NE                  0.41           0.29          0.21          0.09\n",
            "NV                  0.33           0.37          0.24          0.05\n",
            "NH                  0.34           0.34          0.28          0.04\n",
            "NJ                  0.29           0.37          0.28          0.07\n",
            "NM                  0.34           0.36          0.23          0.07\n",
            "NY                  0.29           0.34          0.31          0.06\n",
            "NC                  0.40           0.32          0.23          0.05\n",
            "ND                  0.45           0.30          0.22          0.03\n",
            "OH                  0.40           0.32          0.21          0.07\n",
            "OK                  0.38           0.37          0.19          0.06\n",
            "OR                  0.30           0.34          0.30          0.06\n",
            "PA                  0.36           0.34          0.23          0.08\n",
            "RI                  0.26           0.35          0.30          0.08\n",
            "SC                  0.43           0.35          0.15          0.06\n",
            "SD                  0.47           0.32          0.15          0.05\n",
            "TN                  0.46           0.27          0.19          0.08\n",
            "TX                  0.39           0.32          0.21          0.07\n",
            "UT                  0.45           0.31          0.20          0.04\n",
            "VT                  0.30           0.32          0.35          0.03\n",
            "VA                  0.39           0.37          0.19          0.05\n",
            "WA                  0.30           0.33          0.30          0.07\n",
            "WV                  0.47           0.30          0.16          0.06\n",
            "WI                  0.41           0.36          0.19          0.04\n",
            "WY                  0.41           0.33          0.17          0.09\n"
          ]
        }
      ]
    },
    {
      "cell_type": "markdown",
      "source": [
        "Scraping data on urbanization"
      ],
      "metadata": {
        "id": "HlRpRzvV9AiG"
      }
    },
    {
      "cell_type": "code",
      "source": [
        "# Scrapping urbanization rate values from wikipedia.org\n",
        "driver.get(urbanizationURL)\n",
        "tableDataRaw = driver.find_elements(By.TAG_NAME, 'tr')\n",
        "stateCheckPattern = re.compile('^.+?(?=\\ \\(|$)')\n",
        "\n",
        "for tableRow in tableDataRaw:\n",
        "    curColumn = tableRow.find_elements(By.TAG_NAME, 'td')\n",
        "    \n",
        "    if len(curColumn) == 0:\n",
        "        continue\n",
        "\n",
        "    # Check if the data is state-wide and not country-wide\n",
        "    stateNameRaw = curColumn[0] \\\n",
        "        .find_element(By.TAG_NAME, 'a') \\\n",
        "        .get_attribute('title')\n",
        "    stateName = stateCheckPattern \\\n",
        "        .search(stateNameRaw) \\\n",
        "        .group()\n",
        "\n",
        "    if stateName not in statesFullList:\n",
        "        continue\n",
        "    urbanizationRateDict['urban_rate'] \\\n",
        "        .append(percent_to_float(curColumn[1].text))\n",
        "\n",
        "# Finally getting urbanization rate DataFrame\n",
        "urbanizationRate = pd.DataFrame(data=urbanizationRateDict).set_index('state')\n",
        "urbanizationRate['rural_rate'] = 1 - urbanizationRate['urban_rate']\n",
        "print(urbanizationRate)\n"
      ],
      "metadata": {
        "id": "13ud1qJ8J_Lb",
        "collapsed": true,
        "colab": {
          "base_uri": "https://localhost:8080/"
        },
        "outputId": "d8da4482-cd5e-485b-9616-fe8cfb771c64"
      },
      "execution_count": null,
      "outputs": [
        {
          "output_type": "stream",
          "name": "stdout",
          "text": [
            "       urban_rate  rural_rate\n",
            "state                        \n",
            "AL          0.577       0.423\n",
            "AK          0.649       0.351\n",
            "AZ          0.893       0.107\n",
            "AR          0.555       0.445\n",
            "CA          0.942       0.058\n",
            "CO          0.860       0.140\n",
            "CT          0.863       0.137\n",
            "DE          0.826       0.174\n",
            "FL          0.915       0.085\n",
            "GA          0.741       0.259\n",
            "HI          0.861       0.139\n",
            "ID          0.692       0.308\n",
            "IL          0.869       0.131\n",
            "IN          0.712       0.288\n",
            "IA          0.632       0.368\n",
            "KS          0.723       0.277\n",
            "KY          0.587       0.413\n",
            "LA          0.715       0.285\n",
            "ME          0.386       0.614\n",
            "MD          0.856       0.144\n",
            "MA          0.913       0.087\n",
            "MI          0.735       0.265\n",
            "MN          0.719       0.281\n",
            "MS          0.463       0.537\n",
            "MO          0.695       0.305\n",
            "MT          0.534       0.466\n",
            "NE          0.730       0.270\n",
            "NV          0.941       0.059\n",
            "NH          0.583       0.417\n",
            "NJ          0.938       0.062\n",
            "NM          0.745       0.255\n",
            "NY          0.874       0.126\n",
            "NC          0.667       0.333\n",
            "ND          0.610       0.390\n",
            "OH          0.763       0.237\n",
            "OK          0.646       0.354\n",
            "OR          0.805       0.195\n",
            "PA          0.765       0.235\n",
            "RI          0.911       0.089\n",
            "SC          0.679       0.321\n",
            "SD          0.572       0.428\n",
            "TN          0.662       0.338\n",
            "TX          0.837       0.163\n",
            "UT          0.898       0.102\n",
            "VT          0.351       0.649\n",
            "VA          0.756       0.244\n",
            "WA          0.834       0.166\n",
            "WV          0.446       0.554\n",
            "WI          0.671       0.329\n",
            "WY          0.620       0.380\n"
          ]
        }
      ]
    },
    {
      "cell_type": "markdown",
      "source": [
        "States area data scraping"
      ],
      "metadata": {
        "id": "XN3apL56fHW5"
      }
    },
    {
      "cell_type": "code",
      "source": [
        "# Scrapping territory area values from wikipedia.org\n",
        "driver.get(territoryURL)\n",
        "stateCheckPattern = re.compile('^.+?(?=\\ \\(|$)')\n",
        "\n",
        "tableDataRaw = driver.find_element(By.TAG_NAME, 'tbody') \\\n",
        "    .find_elements(By.TAG_NAME, 'tr')\n",
        "\n",
        "for tableRow in tableDataRaw:\n",
        "    curColumn = tableRow.find_elements(By.TAG_NAME, 'th')\n",
        "    \n",
        "    if len(curColumn) == 0:\n",
        "        continue\n",
        "\n",
        "    # Check if the data is state-wide and not country-wide\n",
        "    stateNameRaw = curColumn[0] \\\n",
        "        .find_element(By.TAG_NAME, 'a') \\\n",
        "        .get_attribute('title')\n",
        "    stateName = stateCheckPattern \\\n",
        "        .search(stateNameRaw) \\\n",
        "        .group()\n",
        "\n",
        "    if stateName not in statesFullList:\n",
        "        continue\n",
        "    territoryAreaDict['area'].append((\n",
        "        stateName,\n",
        "        string_to_float(tableRow.find_elements(By.TAG_NAME, 'td')[2].text)\n",
        "    ))\n",
        "\n",
        "\n",
        "territoryAreaDict['area'] = \\\n",
        "    [area for (state,area) in sorted(territoryAreaDict['area'])]\n",
        "# Finally getting territory rate DataFrame\n",
        "territoryArea = pd.DataFrame(data=territoryAreaDict).set_index('state')\n",
        "territoryArea['population_density'] = \\\n",
        "    raceRate['population'] / territoryArea['area']\n",
        "print(territoryArea)\n"
      ],
      "metadata": {
        "id": "y-nGJxhQbQIX",
        "collapsed": true,
        "colab": {
          "base_uri": "https://localhost:8080/"
        },
        "outputId": "21774d9e-48d4-42f5-e202-b9c9deb0f5da"
      },
      "execution_count": null,
      "outputs": [
        {
          "output_type": "stream",
          "name": "stdout",
          "text": [
            "            area  population_density\n",
            "state                               \n",
            "AL      135767.0           37.005937\n",
            "AK     1723337.0            0.425371\n",
            "AZ      295234.0           24.223037\n",
            "AR      137732.0           21.864781\n",
            "CA      423967.0           93.255492\n",
            "CO      269601.0           21.415770\n",
            "CT       14357.0          251.157066\n",
            "DE        6446.0          153.575551\n",
            "FL      170312.0          126.450544\n",
            "GA      153910.0           69.597641\n",
            "HI       28313.0           51.392858\n",
            "ID      216443.0            8.496916\n",
            "IL      149995.0           85.418481\n",
            "IN       94326.0           71.936105\n",
            "IA      145746.0           21.889897\n",
            "KS      213100.0           13.786279\n",
            "KY      104656.0           43.052247\n",
            "LA      135659.0           34.332223\n",
            "ME       91633.0           14.867297\n",
            "MD       32131.0          192.247393\n",
            "MA       27336.0          257.161838\n",
            "MI      250487.0           40.229884\n",
            "MN      225163.0           25.343400\n",
            "MS      125438.0           23.607336\n",
            "MO      180540.0           34.091254\n",
            "MT      380831.0            2.846916\n",
            "NE      200330.0            9.791364\n",
            "NV      286380.0           10.840869\n",
            "NH       24214.0           56.886305\n",
            "NJ       22591.0          411.168164\n",
            "NM      314917.0            6.723918\n",
            "NY      141297.0          142.967827\n",
            "NC      139391.0           74.891234\n",
            "ND      183108.0            4.254724\n",
            "OH      116098.0          101.633000\n",
            "OK      181037.0           21.869679\n",
            "OR      254799.0           16.628252\n",
            "PA      119280.0          109.008912\n",
            "RI        4001.0          274.278930\n",
            "SC       82933.0           61.716494\n",
            "SD      199729.0            4.439025\n",
            "TN      109153.0           63.311773\n",
            "TX      695662.0           41.895446\n",
            "UT      219882.0           14.878785\n",
            "VT       24906.0           25.818919\n",
            "VA      110787.0           77.906568\n",
            "WA      184661.0           41.721766\n",
            "WV       62756.0           28.580789\n",
            "WI      169635.0           34.742807\n",
            "WY      253335.0            2.277017\n"
          ]
        }
      ]
    },
    {
      "cell_type": "markdown",
      "source": [
        "Scraping solar data"
      ],
      "metadata": {
        "id": "vbbUWhtTy4CU"
      }
    },
    {
      "cell_type": "code",
      "source": [
        "driver.get(sunshineURL)\n",
        "tbodies = driver.find_elements(By.TAG_NAME, 'tbody')\n",
        "\n",
        "for tbody in tbodies:\n",
        "    tableDataRaw = tbody.find_elements(By.TAG_NAME, 'tr')\n",
        "\n",
        "    for tableRow in tableDataRaw:\n",
        "        curColumn = tableRow.find_elements(By.TAG_NAME, 'td')\n",
        "        if len(curColumn) == 0:\n",
        "            continue\n",
        "\n",
        "        # Check if the data is state-wide and not country-wide\n",
        "        stateName = curColumn[0].text\n",
        "        if stateName not in statesFullList:\n",
        "            continue\n",
        "\n",
        "        sunshineRateDict['sun_rate'] \\\n",
        "            .append((\n",
        "                stateName,\n",
        "                sunshineRateDict['sun_rate'][-1][1] \\\n",
        "                if curColumn[2].text == '–' \\\n",
        "                else percent_to_float(curColumn[2].text)\n",
        "            ))\n",
        "        sunshineRateDict['sun_total_hours'] \\\n",
        "            .append((\n",
        "                stateName,\n",
        "                sunshineRateDict['sun_total_hours'][-1][1] \\\n",
        "                if curColumn[3].text == '–' \\\n",
        "                else float(curColumn[3].text)\n",
        "            ))\n",
        "\n",
        "sunshineRateDict['sun_rate'] = \\\n",
        "    [rate for (_, rate) in sorted(sunshineRateDict['sun_rate'])]\n",
        "\n",
        "sunshineRateDict['sun_total_hours'] = \\\n",
        "    [hours for (_, hours) in sorted(sunshineRateDict['sun_total_hours'])]\n",
        "\n",
        "# Finally getting sunshine rate DataFrame\n",
        "sunshineRate = pd.DataFrame(data=sunshineRateDict).set_index('state')\n",
        "print(sunshineRate)"
      ],
      "metadata": {
        "id": "jizoJtEmzjac",
        "collapsed": true,
        "colab": {
          "base_uri": "https://localhost:8080/"
        },
        "outputId": "96cb2153-f1a2-47b0-be75-2b230503053e"
      },
      "execution_count": null,
      "outputs": [
        {
          "output_type": "stream",
          "name": "stdout",
          "text": [
            "       sun_rate  sun_total_hours\n",
            "state                           \n",
            "AL         0.58           2641.0\n",
            "AK         0.41           2061.0\n",
            "AZ         0.85           3806.0\n",
            "AR         0.61           2771.0\n",
            "CA         0.68           3055.0\n",
            "CO         0.71           3204.0\n",
            "CT         0.56           2585.0\n",
            "DE         0.56           2585.0\n",
            "FL         0.66           2927.0\n",
            "GA         0.66           2986.0\n",
            "HI         0.71           2986.0\n",
            "ID         0.64           2993.0\n",
            "IL         0.56           2567.0\n",
            "IN         0.55           2440.0\n",
            "IA         0.59           2691.0\n",
            "KS         0.65           2922.0\n",
            "KY         0.56           2514.0\n",
            "LA         0.57           2649.0\n",
            "ME         0.57           2513.0\n",
            "MD         0.57           2582.0\n",
            "MA         0.58           2634.0\n",
            "MI         0.51           2392.0\n",
            "MN         0.58           2711.0\n",
            "MS         0.61           2720.0\n",
            "MO         0.60           2690.0\n",
            "MT         0.59           2698.0\n",
            "NE         0.61           2762.0\n",
            "NV         0.79           3646.0\n",
            "NH         0.54           2519.0\n",
            "NJ         0.56           2499.0\n",
            "NM         0.76           3415.0\n",
            "NY         0.46           2120.0\n",
            "NC         0.60           2651.0\n",
            "ND         0.59           2738.0\n",
            "OH         0.50           2183.0\n",
            "OK         0.68           3089.0\n",
            "OR         0.48           2341.0\n",
            "PA         0.58           2614.0\n",
            "RI         0.58           2606.0\n",
            "SC         0.64           2826.0\n",
            "SD         0.63           2947.0\n",
            "TN         0.56           2510.0\n",
            "TX         0.61           2850.0\n",
            "UT         0.66           3029.0\n",
            "VT         0.49           2295.0\n",
            "VA         0.63           2829.0\n",
            "WA         0.47           2170.0\n",
            "WV         0.47           2170.0\n",
            "WI         0.54           2428.0\n",
            "WY         0.68           3073.0\n"
          ]
        }
      ]
    },
    {
      "cell_type": "markdown",
      "source": [
        "# 2.4. Prepare data for analysis"
      ],
      "metadata": {
        "id": "Z5O2IbJbgDvr"
      }
    },
    {
      "cell_type": "markdown",
      "source": [
        "Combine data into a single table"
      ],
      "metadata": {
        "id": "lquF4AJ1g1hF"
      }
    },
    {
      "cell_type": "code",
      "source": [
        "stateData = raceRate.merge(suicideRate, on='state') \\\n",
        "    .merge(homicideRate, on='state') \\\n",
        "    .merge(nomGDP, on='state') \\\n",
        "    .merge(realGDP, on='state') \\\n",
        "    .merge(religionRate, on='state') \\\n",
        "    .merge(politicalRate, on='state') \\\n",
        "    .merge(urbanizationRate, on='state') \\\n",
        "    .merge(territoryArea, on='state') \\\n",
        "    .merge(sunshineRate, on='state') \\\n",
        "    .merge(unemploymentRate, on='state')"
      ],
      "metadata": {
        "id": "KvCCTlEi0Ou8",
        "collapsed": true
      },
      "execution_count": null,
      "outputs": []
    },
    {
      "cell_type": "markdown",
      "source": [
        "Remove columns with demographics that are not normalized by population"
      ],
      "metadata": {
        "id": "OrSb8AMNgWgN"
      }
    },
    {
      "cell_type": "code",
      "source": [
        "stateData.pop('white')\n",
        "stateData.pop('black')\n",
        "stateData.pop('hispanic')\n",
        "stateData.pop('asian')\n",
        "stateData.pop('suicide_deaths')\n",
        "stateData.pop('homicide_deaths')"
      ],
      "metadata": {
        "id": "GtW_lMUroUTS",
        "colab": {
          "base_uri": "https://localhost:8080/"
        },
        "outputId": "431c97ec-5b1c-441b-e3ae-7c761cbd65cf",
        "collapsed": true
      },
      "execution_count": null,
      "outputs": [
        {
          "output_type": "execute_result",
          "data": {
            "text/plain": [
              "state\n",
              "AL     654\n",
              "AK      55\n",
              "AZ     525\n",
              "AR     371\n",
              "CA    2368\n",
              "CO     336\n",
              "CT     152\n",
              "DE      86\n",
              "FL    1530\n",
              "GA    1093\n",
              "HI      46\n",
              "ID      42\n",
              "IL    1353\n",
              "IN     620\n",
              "IA     106\n",
              "KS     195\n",
              "KY     404\n",
              "LA     873\n",
              "ME      21\n",
              "MD     649\n",
              "MA     183\n",
              "MI     811\n",
              "MN     198\n",
              "MS     576\n",
              "MO     803\n",
              "MT      65\n",
              "NE      76\n",
              "NV     217\n",
              "NH      14\n",
              "NJ     362\n",
              "NM     216\n",
              "NY     875\n",
              "NC     884\n",
              "ND      30\n",
              "OH    1004\n",
              "OK     342\n",
              "OR     157\n",
              "PA     994\n",
              "RI      29\n",
              "SC     622\n",
              "SD      52\n",
              "TN     753\n",
              "TX    2212\n",
              "UT      95\n",
              "VT      14\n",
              "VA     531\n",
              "WA     322\n",
              "WV     114\n",
              "WI     334\n",
              "WY      25\n",
              "Name: homicide_deaths, dtype: object"
            ]
          },
          "metadata": {},
          "execution_count": 22
        }
      ]
    },
    {
      "cell_type": "markdown",
      "source": [
        "Run a Friedman statistical test to see if the state difference is statistically significant."
      ],
      "metadata": {
        "id": "zMY7xHkigurd"
      }
    },
    {
      "cell_type": "code",
      "source": [
        "f, p = stats.friedmanchisquare(*np.array(stateData.values).T)\n",
        "print ('Yes' if p < 0.005 else 'No')"
      ],
      "metadata": {
        "id": "ZOGZOOD85tt6",
        "colab": {
          "base_uri": "https://localhost:8080/"
        },
        "outputId": "fcf6613f-257d-45d9-b1ce-5099641d7558"
      },
      "execution_count": null,
      "outputs": [
        {
          "output_type": "stream",
          "name": "stdout",
          "text": [
            "Yes\n"
          ]
        }
      ]
    },
    {
      "cell_type": "markdown",
      "source": [
        "Final version of the dataframe"
      ],
      "metadata": {
        "id": "eg1HphyXjzd_"
      }
    },
    {
      "cell_type": "code",
      "source": [
        "stateData"
      ],
      "metadata": {
        "id": "JIzWWiyZjwXT",
        "collapsed": true
      },
      "execution_count": null,
      "outputs": []
    },
    {
      "cell_type": "markdown",
      "source": [
        "Geographical view of suicide rates"
      ],
      "metadata": {
        "id": "Yupq-qWstIDI"
      }
    },
    {
      "cell_type": "code",
      "source": [
        "!gdown https://drive.google.com/uc?id=1OeNlUuNLOg_NL9uG8FdWlg9ujjl1IiNl\n",
        "\n",
        "statesGeoData = gpd.read_file('us2020.geojson')\n",
        "\n",
        "# Merge the stateData dataframe's 'suicide_rate' column with the statesGeoData\n",
        "# dataframe on the 'state' and 'STUSPS' columns\n",
        "statesGeoData = statesGeoData.set_index('STUSPS')\n",
        "statesGeoData = statesGeoData.merge(\n",
        "    stateData['suicide_rate'], \n",
        "    left_on='STUSPS', \n",
        "    right_on='state'\n",
        ")\n",
        "\n",
        "# Create a figure and an axis object, set the axis off, and add a title\n",
        "fig, ax = plt.subplots(figsize=(16, 16))\n",
        "ax.set_axis_off()\n",
        "ax.set_title('Suicide Rates by State', fontsize=16)\n",
        "statesGeoData.plot(\n",
        "    column='suicide_rate', \n",
        "    cmap='OrRd', \n",
        "    linewidth=0.8, \n",
        "    ax=ax, \n",
        "    edgecolor='0.8', \n",
        "    legend=True, \n",
        "    legend_kwds={'shrink': 0.3}\n",
        ")"
      ],
      "metadata": {
        "colab": {
          "base_uri": "https://localhost:8080/",
          "height": 760
        },
        "collapsed": true,
        "id": "W2fV3r3DtOiy",
        "outputId": "0af80a73-a42c-4b06-acbf-8006eb4d0355"
      },
      "execution_count": null,
      "outputs": [
        {
          "output_type": "stream",
          "name": "stdout",
          "text": [
            "Downloading...\n",
            "From: https://drive.google.com/uc?id=1OeNlUuNLOg_NL9uG8FdWlg9ujjl1IiNl\n",
            "To: /content/us2020.geojson\n",
            "\r  0% 0.00/2.66M [00:00<?, ?B/s]\r100% 2.66M/2.66M [00:00<00:00, 53.9MB/s]\n"
          ]
        },
        {
          "output_type": "display_data",
          "data": {
            "text/plain": [
              "<Figure size 1600x1600 with 2 Axes>"
            ],
            "image/png": "[encoded data removed]"
          },
          "metadata": {}
        }
      ]
    },
    {
      "cell_type": "markdown",
      "source": [
        "# 3. Preparing analysis tools"
      ],
      "metadata": {
        "id": "w9R_1sw9g0nG"
      }
    },
    {
      "cell_type": "markdown",
      "source": [
        "Program a tool to illustrate the correlation between variables on a graph"
      ],
      "metadata": {
        "id": "SdHbfSLThFF1"
      }
    },
    {
      "cell_type": "code",
      "source": [
        "def plot_correlation(column):\n",
        "    # Calculate Pearson correlation coefficient\n",
        "    r = stateData['suicide_rate'].corr(stateData[column])\n",
        "    # Create scatter plot with linear regression line\n",
        "    sns.lmplot(x='suicide_rate', y=column, data=stateData)\n",
        "    # Add Pearson correlation coefficient to plot\n",
        "    plt.text(\n",
        "        stateData['suicide_rate'].min(), \n",
        "        stateData[column].max(), \n",
        "        'Correlation: {:.2f}'.format(r)\n",
        "    )\n",
        "    # Show plot\n",
        "    plt.show()"
      ],
      "metadata": {
        "id": "lhiKFxCetHuq"
      },
      "execution_count": null,
      "outputs": []
    },
    {
      "cell_type": "markdown",
      "source": [
        "Program a tool for analyzing the strength of correlation"
      ],
      "metadata": {
        "id": "s3pmmx4ChSo7"
      }
    },
    {
      "cell_type": "code",
      "source": [
        "def corr_check(r):\n",
        "    r = abs(r)\n",
        "    if 0 <= r <= 1:\n",
        "        if r < 0.3:\n",
        "            return('very weak')\n",
        "        elif 0.3 <= r < 0.5:\n",
        "            return('weak')\n",
        "        elif 0.5 <= r < 0.7:\n",
        "            return('average')\n",
        "        elif 0.7 <= r < 0.9:\n",
        "            return('strong')\n",
        "        else:\n",
        "            return('very strong')\n",
        "    else:\n",
        "        return('ERROR')"
      ],
      "metadata": {
        "id": "sSGa8rzjA8DG"
      },
      "execution_count": null,
      "outputs": []
    },
    {
      "cell_type": "markdown",
      "source": [
        "Program the statistical significance analysis tool"
      ],
      "metadata": {
        "id": "5qSFxVCkhhiw"
      }
    },
    {
      "cell_type": "code",
      "source": [
        "def p_value_check(p):\n",
        "    if p >= 0:\n",
        "        if 0.01 <= p < 0.05:\n",
        "            return('statistically significant')\n",
        "        elif 0.01 > p:\n",
        "            return('very statistically significant')\n",
        "        else:\n",
        "            return('statistically unsignificant')\n",
        "    else:\n",
        "        return('ERROR')"
      ],
      "metadata": {
        "id": "Rc0z6DjgCgl6"
      },
      "execution_count": null,
      "outputs": []
    },
    {
      "cell_type": "markdown",
      "source": [
        "Program the t-test check tool"
      ],
      "metadata": {
        "id": "lxOsmJfWhxCv"
      }
    },
    {
      "cell_type": "code",
      "source": [
        "def t_critical_check(p, r):\n",
        "    if p >= 0 and -1 <= r <= 1:\n",
        "        # Calculate the t-value for a two-tailed t-test\n",
        "        n = len(stateData)\n",
        "        degree_of_freedom = n - 2\n",
        "        t_critical = stats.t.ppf(1 - p/2, degree_of_freedom)\n",
        "        t = r * ((n-2) / ((1 - r**2)**0.5))\n",
        "        # Determine if the t-value is greater than the critical value\n",
        "        if abs(t) > t_critical:\n",
        "            return(True)\n",
        "        else: \n",
        "            return(False)\n",
        "    else:\n",
        "        return('ERROR')"
      ],
      "metadata": {
        "id": "1jxmT_CSGbJW"
      },
      "execution_count": null,
      "outputs": []
    },
    {
      "cell_type": "markdown",
      "source": [
        "Program a tool that calculates the main statistical indicators and, if necessary, filters out those correlations that turned out to be unimportant"
      ],
      "metadata": {
        "id": "UPlT8QBAiI3C"
      }
    },
    {
      "cell_type": "code",
      "source": [
        "def analysis_list(column, filter=False):\n",
        "    # Calculate Pearson correlation coefficient and p-value\n",
        "    r, p = stats.pearsonr(stateData[column], stateData['suicide_rate'])\n",
        "    # Determine if the correlation is statistically significant\n",
        "    significance = p_value_check(p)\n",
        "    # Calculate the t-value for a two-tailed t-test\n",
        "    degree_of_freedom = len(stateData) - 2\n",
        "    t_test = t_critical_check(p, r)\n",
        "    strength = corr_check(r)\n",
        "    # Statistical significance filter\n",
        "    if filter == True:\n",
        "        if t_test == True and \\\n",
        "            strength != 'very weak' and \\\n",
        "            significance != 'statistically unsignificant':\n",
        "            return([r, r**2, p, strength, significance])\n",
        "    else:\n",
        "        return([r, r**2, p, strength, significance])"
      ],
      "metadata": {
        "id": "_Xv1JmB1IdqR"
      },
      "execution_count": null,
      "outputs": []
    },
    {
      "cell_type": "markdown",
      "source": [
        "Indicators:\n",
        "*  correlation coefficient (r)\n",
        "*  determination coefficient (R)\n",
        "*  p-value (P)\n",
        "*  correlation strength\n",
        "*  statistical significance"
      ],
      "metadata": {
        "id": "myyWY1qBirss"
      }
    },
    {
      "cell_type": "code",
      "source": [
        "def analyze_this(column):\n",
        "    ar = analysis_list(column)\n",
        "    column_1 = column\n",
        "    column_1 = column.capitalize().replace(\"_\", \" \")\n",
        "    print(column_1 + ' summary:')\n",
        "    print('Correlation coefficient is', round(ar[0], 4))\n",
        "    print('Determination coefficient is', round(ar[1], 4)) \n",
        "    print('P-value is', round(ar[2], 4))  \n",
        "    print('Correlation is', ar[3]) \n",
        "    print('Correlation is', ar[4]) \n",
        "    plot_correlation(column)"
      ],
      "metadata": {
        "id": "uZi6brJ3OZoa"
      },
      "execution_count": null,
      "outputs": []
    },
    {
      "cell_type": "markdown",
      "source": [
        "# 4. Analysis"
      ],
      "metadata": {
        "id": "uqwlYFBYkskq"
      }
    },
    {
      "cell_type": "markdown",
      "source": [
        "Let's create two dictionaries. In one, we save all the data, and in the second, only those that show statistically significant patterns"
      ],
      "metadata": {
        "id": "5dRVcT8dsoJR"
      }
    },
    {
      "cell_type": "code",
      "source": [
        "insights = {}\n",
        "full = {}\n",
        "for column in stateData.columns.tolist():\n",
        "    if column != 'suicide_rate':\n",
        "        if analysis_list(column, True)!= None:\n",
        "            insights[column] = analysis_list(column)\n",
        "            full[column] = analysis_list(column)\n",
        "        else:\n",
        "            full[column] = analysis_list(column)"
      ],
      "metadata": {
        "id": "zEFhg-6JLSvg"
      },
      "execution_count": null,
      "outputs": []
    },
    {
      "cell_type": "code",
      "source": [
        "for key, value in insights.items():\n",
        "    print('{}: {}'.format(key, value))"
      ],
      "metadata": {
        "colab": {
          "base_uri": "https://localhost:8080/"
        },
        "id": "vNfY_jDLT59l",
        "outputId": "dd5048b0-a7e4-4372-948c-9970e397257a",
        "collapsed": true
      },
      "execution_count": null,
      "outputs": [
        {
          "output_type": "stream",
          "name": "stdout",
          "text": [
            "population: [-0.46141030848020154, 0.21289947277179475, 0.0007445996809021158, 'weak', 'very statistically significant']\n",
            "white_population_rate: [0.3446746453536321, 0.11880061114965208, 0.01423802591332206, 'weak', 'statistically significant']\n",
            "black_population_rate: [-0.4532914061795735, 0.20547309891625506, 0.0009471105691989311, 'weak', 'very statistically significant']\n",
            "nominal_gdp: [-0.4723592741701852, 0.2231232838945842, 0.0005332018687034512, 'weak', 'very statistically significant']\n",
            "nominal_gdp_per_capita: [-0.3856172846488639, 0.14870069021996293, 0.005681643114344191, 'weak', 'very statistically significant']\n",
            "real_gdp: [-0.4574525725511598, 0.2092628561336741, 0.0008378642671859441, 'weak', 'very statistically significant']\n",
            "non-christian_rate: [-0.45205031709283383, 0.2043494891837316, 0.0009820794557001537, 'weak', 'very statistically significant']\n",
            "conservative_rate: [0.43585898266164574, 0.1899730527668448, 0.0015568651062153223, 'weak', 'very statistically significant']\n",
            "liberal_rate: [-0.3814731983990535, 0.14552180109680365, 0.0062683393671098386, 'weak', 'very statistically significant']\n",
            "urban_rate: [-0.4749903509585802, 0.22561583350375522, 0.0004912642974694003, 'weak', 'very statistically significant']\n",
            "rural_rate: [0.4749903509585802, 0.22561583350375522, 0.0004912642974694003, 'weak', 'very statistically significant']\n",
            "area: [0.4451681028847193, 0.19817463982598005, 0.0011978399674817876, 'weak', 'very statistically significant']\n",
            "population_density: [-0.7151754326348221, 0.511475899444405, 5.369841334596283e-09, 'strong', 'very statistically significant']\n",
            "unemployment_rate: [-0.42258118308335924, 0.17857485629613157, 0.0022346464993665224, 'weak', 'very statistically significant']\n"
          ]
        }
      ]
    },
    {
      "cell_type": "markdown",
      "source": [
        "Note that the characteristics that protect the state from high suicide rates are high GDP, high population density, urbanization, high non-Christian population, and high progressive population. This paints a clear picture. Apparently, the most economically developed states, in which the influence of Christianity is weaker than average, urbanization and population density are high, potentially lowering the suicide rate. Thus, we can associate conditional \"progress\" with a decrease in the suicide rate."
      ],
      "metadata": {
        "id": "syYS4He4zGnX"
      }
    },
    {
      "cell_type": "code",
      "source": [
        "for key, value in full.items():\n",
        "    print('{}: {}'.format(key, value))"
      ],
      "metadata": {
        "colab": {
          "base_uri": "https://localhost:8080/"
        },
        "id": "4W5iu2PRT6Js",
        "outputId": "9736d5b0-1bb7-43cc-f228-20e7d02edaf6"
      },
      "execution_count": null,
      "outputs": [
        {
          "output_type": "stream",
          "name": "stdout",
          "text": [
            "population: [-0.46141030848020154, 0.21289947277179475, 0.0007445996809021158, 'weak', 'very statistically significant']\n",
            "white_population_rate: [0.3446746453536321, 0.11880061114965208, 0.01423802591332206, 'weak', 'statistically significant']\n",
            "black_population_rate: [-0.4532914061795735, 0.20547309891625506, 0.0009471105691989311, 'weak', 'very statistically significant']\n",
            "hispanic_population_rate: [-0.12217248610094153, 0.014926116360084752, 0.39799226068860377, 'very weak', 'statistically unsignificant']\n",
            "asian_population_rate: [-0.23425173806000474, 0.05487387678413307, 0.10154978834330416, 'very weak', 'statistically unsignificant']\n",
            "homicide_rate: [-0.03883080412347458, 0.0015078313488756506, 0.7889060743546635, 'very weak', 'statistically unsignificant']\n",
            "nominal_gdp: [-0.4723592741701852, 0.2231232838945842, 0.0005332018687034512, 'weak', 'very statistically significant']\n",
            "nominal_gdp_per_capita: [-0.3856172846488639, 0.14870069021996293, 0.005681643114344191, 'weak', 'very statistically significant']\n",
            "real_gdp: [-0.4574525725511598, 0.2092628561336741, 0.0008378642671859441, 'weak', 'very statistically significant']\n",
            "real_gdp_per_capita: [-0.21150993209627889, 0.04473645137537251, 0.14034356308508225, 'very weak', 'statistically unsignificant']\n",
            "very_important_rate: [0.07552376137633937, 0.00570383853243025, 0.6021773886286275, 'very weak', 'statistically unsignificant']\n",
            "somewhat_important_rate: [-0.09633986680466858, 0.009281369935941282, 0.5057011337569405, 'very weak', 'statistically unsignificant']\n",
            "not_important_rate: [-0.057978301597187545, 0.0033614834560944397, 0.6892036938847469, 'very weak', 'statistically unsignificant']\n",
            "christian_rate: [0.055017090666081514, 0.0030268802653598335, 0.7043332745299986, 'very weak', 'statistically unsignificant']\n",
            "non-christian_rate: [-0.45205031709283383, 0.2043494891837316, 0.0009820794557001537, 'weak', 'very statistically significant']\n",
            "unaffiliated_rate: [0.15596370702398873, 0.024324677908664594, 0.27944295343294545, 'very weak', 'statistically unsignificant']\n",
            "conservative_rate: [0.43585898266164574, 0.1899730527668448, 0.0015568651062153223, 'weak', 'very statistically significant']\n",
            "moderate_rate: [-0.1715149068717184, 0.02941736327921423, 0.23366603884719286, 'very weak', 'statistically unsignificant']\n",
            "liberal_rate: [-0.3814731983990535, 0.14552180109680365, 0.0062683393671098386, 'weak', 'very statistically significant']\n",
            "neutral_rate: [-0.19911213054845478, 0.0396456405315449, 0.16567056794805765, 'very weak', 'statistically unsignificant']\n",
            "urban_rate: [-0.4749903509585802, 0.22561583350375522, 0.0004912642974694003, 'weak', 'very statistically significant']\n",
            "rural_rate: [0.4749903509585802, 0.22561583350375522, 0.0004912642974694003, 'weak', 'very statistically significant']\n",
            "area: [0.4451681028847193, 0.19817463982598005, 0.0011978399674817876, 'weak', 'very statistically significant']\n",
            "population_density: [-0.7151754326348221, 0.511475899444405, 5.369841334596283e-09, 'strong', 'very statistically significant']\n",
            "sun_rate: [0.1942334282393535, 0.037726624645612085, 0.1764993767300038, 'very weak', 'statistically unsignificant']\n",
            "sun_total_hours: [0.259065018763867, 0.06711468394712276, 0.06926505715267942, 'very weak', 'statistically unsignificant']\n",
            "unemployment_rate: [-0.42258118308335924, 0.17857485629613157, 0.0022346464993665224, 'weak', 'very statistically significant']\n"
          ]
        }
      ]
    },
    {
      "cell_type": "markdown",
      "source": [
        "Also note which structural parameters are not important. The amount of sun does not affect which states have a higher suicide rate. Unemployment, in contrast, is a predictor of low suicide rates. Also not important is the proportion of murders (an assumption about the value of life, where both the value of one's own and someone else's life is simultaneously reduced). Among other things, it doesn't matter how rooted religion is in the state."
      ],
      "metadata": {
        "id": "6FkVugWe0Uty"
      }
    },
    {
      "cell_type": "markdown",
      "source": [
        "Let's use the tools for an example. Considering the disproportionately large size of Alaska, let's analyze the correlations for area in order to assess on the graph whether it pollutes the sample\n"
      ],
      "metadata": {
        "id": "yW9gZoEurTJ_"
      }
    },
    {
      "cell_type": "code",
      "source": [
        "analyze_this('area')"
      ],
      "metadata": {
        "colab": {
          "base_uri": "https://localhost:8080/",
          "height": 610
        },
        "id": "jo1OR7CgREHQ",
        "outputId": "2c83b446-c414-4f16-adbb-bdfc85d2fe52",
        "collapsed": true
      },
      "execution_count": null,
      "outputs": [
        {
          "output_type": "stream",
          "name": "stdout",
          "text": [
            "Area summary:\n",
            "Correlation coefficient is 0.4452\n",
            "Determination coefficient is 0.1982\n",
            "P-value is 0.0012\n",
            "Correlation is weak\n",
            "Correlation is very statistically significant\n"
          ]
        },
        {
          "output_type": "display_data",
          "data": {
            "text/plain": [
              "<Figure size 500x500 with 1 Axes>"
            ],
            "image/png": "[encoded data removed]"
          },
          "metadata": {}
        }
      ]
    },
    {
      "cell_type": "markdown",
      "source": [
        "Note that the general trend would have continued without taking into account Alaska"
      ],
      "metadata": {
        "id": "SkuWterKr-MP"
      }
    },
    {
      "cell_type": "markdown",
      "source": [
        "# 5. Conclusion"
      ],
      "metadata": {
        "id": "zAc9WeYM0lKP"
      }
    },
    {
      "cell_type": "markdown",
      "source": [
        "## 5.1 Elements of self-criticism"
      ],
      "metadata": {
        "id": "xvasXzaJ0pZQ"
      }
    },
    {
      "cell_type": "markdown",
      "source": [
        "As an undergraduate amateur study, this is not without its downsides.\n",
        "\n",
        "1. Using only linear correlations.\n",
        "\n",
        "In the case of our possession of a more advanced level of statistics, it would be worth testing various hypotheses about the statistical dependence of variables, in addition to linear.\n",
        "\n",
        "2. Poor choice of dates.\n",
        "\n",
        "The main body of research is selected for 2020. This is the year of the coronavirus and it can confuse various data in unpredictable ways. Among other things, statistics on religiosity and political beliefs are taken from 2014, which precedes the era of political and partly religious polarization during the Trump presidency.\n",
        "\n",
        "\n",
        "3. Static.\n",
        "\n",
        "To improve the quality of the study, it would be worthwhile (despite strong economic, cultural and territorial similarities) to collect time series with data for different states, at least for 10 years, in order to be able not only to analyze the difference between states (on different samples), but also within the state (multiple times in one sample)."
      ],
      "metadata": {
        "id": "dQkj9Vhv0zDx"
      }
    },
    {
      "cell_type": "markdown",
      "source": [
        "## 5.2 Discarded doxes"
      ],
      "metadata": {
        "id": "VYnClbO_3jOT"
      }
    },
    {
      "cell_type": "markdown",
      "source": [
        "1. The religiosity of a state has nothing to do with its suicide rate.\n",
        "\n",
        "2. Sun levels associated with less depression, for some reason, do not affect suicide rates in the state.\n",
        "\n",
        "Perhaps this is due to the fact that the US climate is not sufficiently variable. This needs further clarification\n",
        "\n",
        "3. High unemployment doesn't lead to high suicide rates\n",
        "\n",
        "For some unknown reason, on the contrary, high unemployment in the state is associated with low suicide rates.\n",
        "\n",
        "4. The hypothesis of a single value of life (the connection between suicides and murders) was not confirmed"
      ],
      "metadata": {
        "id": "DavrgRqg3fS6"
      }
    },
    {
      "cell_type": "markdown",
      "source": [
        "## 5.3 Positive insights"
      ],
      "metadata": {
        "id": "OrKn0boX3xD1"
      }
    },
    {
      "cell_type": "markdown",
      "source": [
        "Economic and scientific progress (or rather what we associate with these concepts: GDP, urbanization, political progressivism, religious tolerance) brings a decrease in the level of suicide. The hypothesis requires further reflection.\n",
        "\n",
        "Note that the project already contains a set of ready-made analysis tools (analyze_this, analysis_list, plot_correlation), so in fact, in addition to new data, it requires only minor technical refinement."
      ],
      "metadata": {
        "id": "A37EHB1A32h_"
      }
    },
    {
      "cell_type": "markdown",
      "source": [
        "## 5.4 Possible expansion of the study"
      ],
      "metadata": {
        "id": "dv8KUaOK4Uu2"
      }
    },
    {
      "cell_type": "markdown",
      "source": [
        "1. Take dynamic statistics over time for 10-15 years.\n",
        "2. Increase the number of demographic indicators (IQ, average and median salary, average vacations, the number of \"strong\" and \"weak\" social ties, the number of divorces, the cost of the CHI policy, the availability of psychotherapy, etc.).\n",
        "3. Add the ability to calculate non-linear correlations.\n",
        "4. Build an approximation model to predict the level of suicides.\n"
      ],
      "metadata": {
        "id": "QIYNfqcn4ZR4"
      }
    }
  ]
}